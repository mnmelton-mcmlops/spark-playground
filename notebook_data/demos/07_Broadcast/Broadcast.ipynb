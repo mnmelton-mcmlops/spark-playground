{
 "cells": [
  {
   "cell_type": "code",
   "execution_count": 1,
   "id": "5208a236-4ae2-4df6-9c1f-491af77908cc",
   "metadata": {},
   "outputs": [
    {
     "name": "stdout",
     "output_type": "stream",
     "text": [
      ":: loading settings :: url = jar:file:/opt/bitnami/spark/jars/ivy-2.5.0.jar!/org/apache/ivy/core/settings/ivysettings.xml\n"
     ]
    },
    {
     "name": "stderr",
     "output_type": "stream",
     "text": [
      "Ivy Default Cache set to: /root/.ivy2/cache\n",
      "The jars for the packages stored in: /root/.ivy2/jars\n",
      "org.apache.hadoop#hadoop-aws added as a dependency\n",
      "com.amazonaws#aws-java-sdk-bundle added as a dependency\n",
      "org.apache.spark#spark-hadoop-cloud_2.12 added as a dependency\n",
      ":: resolving dependencies :: org.apache.spark#spark-submit-parent-866e00c4-00d3-470d-bf11-97f3ce7b3d06;1.0\n",
      "\tconfs: [default]\n",
      "\tfound org.apache.hadoop#hadoop-aws;3.2.0 in central\n",
      "\tfound com.amazonaws#aws-java-sdk-bundle;1.11.704 in central\n",
      "\tfound org.apache.spark#spark-hadoop-cloud_2.12;3.3.0 in central\n",
      "\tfound org.apache.hadoop#hadoop-client-runtime;3.3.2 in central\n",
      "\tfound org.apache.hadoop#hadoop-client-api;3.3.2 in central\n",
      "\tfound org.xerial.snappy#snappy-java;1.1.8.4 in central\n",
      "\tfound org.slf4j#slf4j-api;1.7.32 in central\n",
      "\tfound commons-logging#commons-logging;1.1.3 in central\n",
      "\tfound com.google.code.findbugs#jsr305;3.0.0 in central\n",
      "\tfound org.apache.hadoop#hadoop-aws;3.3.2 in central\n",
      "\tfound com.amazonaws#aws-java-sdk-bundle;1.11.1026 in central\n",
      "\tfound org.wildfly.openssl#wildfly-openssl;1.0.7.Final in central\n",
      "\tfound org.apache.hadoop#hadoop-openstack;3.3.2 in central\n",
      "\tfound org.apache.hadoop#hadoop-annotations;3.3.2 in central\n",
      "\tfound org.apache.httpcomponents#httpcore;4.4.14 in central\n",
      "\tfound com.fasterxml.jackson.core#jackson-annotations;2.13.3 in central\n",
      "\tfound com.fasterxml.jackson.core#jackson-databind;2.13.3 in central\n",
      "\tfound com.fasterxml.jackson.core#jackson-core;2.13.3 in central\n",
      "\tfound joda-time#joda-time;2.10.13 in central\n",
      "\tfound com.fasterxml.jackson.dataformat#jackson-dataformat-cbor;2.13.3 in central\n",
      "\tfound org.apache.httpcomponents#httpclient;4.5.13 in central\n",
      "\tfound commons-codec#commons-codec;1.15 in central\n",
      "\tfound org.apache.hadoop#hadoop-azure;3.3.2 in central\n",
      "\tfound com.microsoft.azure#azure-storage;7.0.1 in central\n",
      "\tfound com.microsoft.azure#azure-keyvault-core;1.0.0 in central\n",
      "\tfound org.apache.hadoop.thirdparty#hadoop-shaded-guava;1.1.1 in central\n",
      "\tfound org.codehaus.jackson#jackson-mapper-asl;1.9.13 in central\n",
      "\tfound org.codehaus.jackson#jackson-core-asl;1.9.13 in central\n",
      "\tfound org.apache.hadoop#hadoop-cloud-storage;3.3.2 in central\n",
      "\tfound org.apache.hadoop#hadoop-aliyun;3.3.2 in central\n",
      "\tfound com.aliyun.oss#aliyun-sdk-oss;3.13.0 in central\n",
      "\tfound org.jdom#jdom2;2.0.6 in central\n",
      "\tfound org.codehaus.jettison#jettison;1.1 in central\n",
      "\tfound stax#stax-api;1.0.1 in central\n",
      "\tfound com.aliyun#aliyun-java-sdk-core;4.5.10 in central\n",
      "\tfound com.google.code.gson#gson;2.8.9 in central\n",
      "\tfound javax.xml.bind#jaxb-api;2.2.11 in central\n",
      "\tfound org.ini4j#ini4j;0.5.4 in central\n",
      "\tfound io.opentracing#opentracing-api;0.33.0 in central\n",
      "\tfound io.opentracing#opentracing-util;0.33.0 in central\n",
      "\tfound io.opentracing#opentracing-noop;0.33.0 in central\n",
      "\tfound com.aliyun#aliyun-java-sdk-ram;3.1.0 in central\n",
      "\tfound com.aliyun#aliyun-java-sdk-kms;2.11.0 in central\n",
      "\tfound org.apache.hadoop#hadoop-azure-datalake;3.3.2 in central\n",
      "\tfound com.microsoft.azure#azure-data-lake-store-sdk;2.3.9 in central\n",
      "\tfound org.apache.hadoop#hadoop-cos;3.3.2 in central\n",
      "\tfound com.qcloud#cos_api-bundle;5.6.19 in central\n",
      "\tfound org.eclipse.jetty#jetty-util-ajax;9.4.46.v20220331 in central\n",
      "\tfound org.eclipse.jetty#jetty-util;9.4.46.v20220331 in central\n",
      "\tfound org.spark-project.spark#unused;1.0.0 in central\n",
      ":: resolution report :: resolve 1213ms :: artifacts dl 61ms\n",
      "\t:: modules in use:\n",
      "\tcom.aliyun#aliyun-java-sdk-core;4.5.10 from central in [default]\n",
      "\tcom.aliyun#aliyun-java-sdk-kms;2.11.0 from central in [default]\n",
      "\tcom.aliyun#aliyun-java-sdk-ram;3.1.0 from central in [default]\n",
      "\tcom.aliyun.oss#aliyun-sdk-oss;3.13.0 from central in [default]\n",
      "\tcom.amazonaws#aws-java-sdk-bundle;1.11.1026 from central in [default]\n",
      "\tcom.fasterxml.jackson.core#jackson-annotations;2.13.3 from central in [default]\n",
      "\tcom.fasterxml.jackson.core#jackson-core;2.13.3 from central in [default]\n",
      "\tcom.fasterxml.jackson.core#jackson-databind;2.13.3 from central in [default]\n",
      "\tcom.fasterxml.jackson.dataformat#jackson-dataformat-cbor;2.13.3 from central in [default]\n",
      "\tcom.google.code.findbugs#jsr305;3.0.0 from central in [default]\n",
      "\tcom.google.code.gson#gson;2.8.9 from central in [default]\n",
      "\tcom.microsoft.azure#azure-data-lake-store-sdk;2.3.9 from central in [default]\n",
      "\tcom.microsoft.azure#azure-keyvault-core;1.0.0 from central in [default]\n",
      "\tcom.microsoft.azure#azure-storage;7.0.1 from central in [default]\n",
      "\tcom.qcloud#cos_api-bundle;5.6.19 from central in [default]\n",
      "\tcommons-codec#commons-codec;1.15 from central in [default]\n",
      "\tcommons-logging#commons-logging;1.1.3 from central in [default]\n",
      "\tio.opentracing#opentracing-api;0.33.0 from central in [default]\n",
      "\tio.opentracing#opentracing-noop;0.33.0 from central in [default]\n",
      "\tio.opentracing#opentracing-util;0.33.0 from central in [default]\n",
      "\tjavax.xml.bind#jaxb-api;2.2.11 from central in [default]\n",
      "\tjoda-time#joda-time;2.10.13 from central in [default]\n",
      "\torg.apache.hadoop#hadoop-aliyun;3.3.2 from central in [default]\n",
      "\torg.apache.hadoop#hadoop-annotations;3.3.2 from central in [default]\n",
      "\torg.apache.hadoop#hadoop-aws;3.3.2 from central in [default]\n",
      "\torg.apache.hadoop#hadoop-azure;3.3.2 from central in [default]\n",
      "\torg.apache.hadoop#hadoop-azure-datalake;3.3.2 from central in [default]\n",
      "\torg.apache.hadoop#hadoop-client-api;3.3.2 from central in [default]\n",
      "\torg.apache.hadoop#hadoop-client-runtime;3.3.2 from central in [default]\n",
      "\torg.apache.hadoop#hadoop-cloud-storage;3.3.2 from central in [default]\n",
      "\torg.apache.hadoop#hadoop-cos;3.3.2 from central in [default]\n",
      "\torg.apache.hadoop#hadoop-openstack;3.3.2 from central in [default]\n",
      "\torg.apache.hadoop.thirdparty#hadoop-shaded-guava;1.1.1 from central in [default]\n",
      "\torg.apache.httpcomponents#httpclient;4.5.13 from central in [default]\n",
      "\torg.apache.httpcomponents#httpcore;4.4.14 from central in [default]\n",
      "\torg.apache.spark#spark-hadoop-cloud_2.12;3.3.0 from central in [default]\n",
      "\torg.codehaus.jackson#jackson-core-asl;1.9.13 from central in [default]\n",
      "\torg.codehaus.jackson#jackson-mapper-asl;1.9.13 from central in [default]\n",
      "\torg.codehaus.jettison#jettison;1.1 from central in [default]\n",
      "\torg.eclipse.jetty#jetty-util;9.4.46.v20220331 from central in [default]\n",
      "\torg.eclipse.jetty#jetty-util-ajax;9.4.46.v20220331 from central in [default]\n",
      "\torg.ini4j#ini4j;0.5.4 from central in [default]\n",
      "\torg.jdom#jdom2;2.0.6 from central in [default]\n",
      "\torg.slf4j#slf4j-api;1.7.32 from central in [default]\n",
      "\torg.spark-project.spark#unused;1.0.0 from central in [default]\n",
      "\torg.wildfly.openssl#wildfly-openssl;1.0.7.Final from central in [default]\n",
      "\torg.xerial.snappy#snappy-java;1.1.8.4 from central in [default]\n",
      "\tstax#stax-api;1.0.1 from central in [default]\n",
      "\t:: evicted modules:\n",
      "\torg.apache.hadoop#hadoop-aws;3.2.0 by [org.apache.hadoop#hadoop-aws;3.3.2] in [default]\n",
      "\tcom.amazonaws#aws-java-sdk-bundle;1.11.375 by [com.amazonaws#aws-java-sdk-bundle;1.11.704] in [default]\n",
      "\tcom.amazonaws#aws-java-sdk-bundle;1.11.704 by [com.amazonaws#aws-java-sdk-bundle;1.11.1026] in [default]\n",
      "\torg.eclipse.jetty#jetty-util-ajax;9.4.43.v20210629 by [org.eclipse.jetty#jetty-util-ajax;9.4.46.v20220331] in [default]\n",
      "\t---------------------------------------------------------------------\n",
      "\t|                  |            modules            ||   artifacts   |\n",
      "\t|       conf       | number| search|dwnlded|evicted|| number|dwnlded|\n",
      "\t---------------------------------------------------------------------\n",
      "\t|      default     |   52  |   0   |   0   |   4   ||   48  |   0   |\n",
      "\t---------------------------------------------------------------------\n",
      ":: retrieving :: org.apache.spark#spark-submit-parent-866e00c4-00d3-470d-bf11-97f3ce7b3d06\n",
      "\tconfs: [default]\n",
      "\t0 artifacts copied, 48 already retrieved (0kB/19ms)\n"
     ]
    },
    {
     "name": "stdout",
     "output_type": "stream",
     "text": [
      "22/10/04 21:49:51 WARN NativeCodeLoader: Unable to load native-hadoop library for your platform... using builtin-java classes where applicable\n"
     ]
    },
    {
     "name": "stderr",
     "output_type": "stream",
     "text": [
      "Setting default log level to \"WARN\".\n",
      "To adjust logging level use sc.setLogLevel(newLevel). For SparkR, use setLogLevel(newLevel).\n"
     ]
    },
    {
     "name": "stdout",
     "output_type": "stream",
     "text": [
      "22/10/04 21:49:55 WARN MetricsConfig: Cannot locate configuration: tried hadoop-metrics2-s3a-file-system.properties,hadoop-metrics2.properties\n"
     ]
    },
    {
     "name": "stderr",
     "output_type": "stream",
     "text": [
      "                                                                                \r"
     ]
    },
    {
     "name": "stdout",
     "output_type": "stream",
     "text": [
      "+---+---+---+--------+----+---+-------+-------+-----+-------+-----+---+----+------+\n",
      "|age|sex|cp |trestbps|chol|fbs|restecg|thalach|exang|oldpeak|slope|ca |thal|target|\n",
      "+---+---+---+--------+----+---+-------+-------+-----+-------+-----+---+----+------+\n",
      "|63 |1  |3  |145     |233 |1  |0      |150    |0    |2.3    |0    |0  |1   |1     |\n",
      "|37 |1  |2  |130     |250 |0  |1      |187    |0    |3.5    |0    |0  |2   |1     |\n",
      "|41 |0  |1  |130     |204 |0  |0      |172    |0    |1.4    |2    |0  |2   |1     |\n",
      "|56 |1  |1  |120     |236 |0  |1      |178    |0    |0.8    |2    |0  |2   |1     |\n",
      "|57 |0  |0  |120     |354 |0  |1      |163    |1    |0.6    |2    |0  |2   |1     |\n",
      "|57 |1  |0  |140     |192 |0  |1      |148    |0    |0.4    |1    |0  |1   |1     |\n",
      "|56 |0  |1  |140     |294 |0  |0      |153    |0    |1.3    |1    |0  |2   |1     |\n",
      "|44 |1  |1  |120     |263 |0  |1      |173    |0    |0      |2    |0  |3   |1     |\n",
      "|52 |1  |2  |172     |199 |1  |1      |162    |0    |0.5    |2    |0  |3   |1     |\n",
      "|57 |1  |2  |150     |168 |0  |1      |174    |0    |1.6    |2    |0  |2   |1     |\n",
      "|54 |1  |0  |140     |239 |0  |1      |160    |0    |1.2    |2    |0  |2   |1     |\n",
      "|48 |0  |2  |130     |275 |0  |1      |139    |0    |0.2    |2    |0  |2   |1     |\n",
      "|49 |1  |1  |130     |266 |0  |1      |171    |0    |0.6    |2    |0  |2   |1     |\n",
      "|64 |1  |3  |110     |211 |0  |0      |144    |1    |1.8    |1    |0  |2   |1     |\n",
      "|58 |0  |3  |150     |283 |1  |0      |162    |0    |1      |2    |0  |2   |1     |\n",
      "|50 |0  |2  |120     |219 |0  |1      |158    |0    |1.6    |1    |0  |2   |1     |\n",
      "|58 |0  |2  |120     |340 |0  |1      |172    |0    |0      |2    |0  |2   |1     |\n",
      "|66 |0  |3  |150     |226 |0  |1      |114    |0    |2.6    |0    |0  |2   |1     |\n",
      "|43 |1  |0  |150     |247 |0  |1      |171    |0    |1.5    |2    |0  |2   |1     |\n",
      "|69 |0  |3  |140     |239 |0  |1      |151    |0    |1.8    |2    |2  |2   |1     |\n",
      "+---+---+---+--------+----+---+-------+-------+-----+-------+-----+---+----+------+\n",
      "only showing top 20 rows\n",
      "\n"
     ]
    }
   ],
   "source": [
    "import sys, os\n",
    "from pyspark.conf import SparkConf\n",
    "from pyspark.sql import SparkSession, Catalog\n",
    "from pyspark.sql import DataFrame, DataFrameStatFunctions, DataFrameNaFunctions\n",
    "from pyspark.sql import functions as F\n",
    "from pyspark.sql import types as T\n",
    "from pyspark.sql.types import Row\n",
    "from subprocess import check_output\n",
    "\n",
    "SPARK_DRIVER_HOST = check_output([\"hostname\", \"-i\"]).decode(encoding=\"utf-8\").strip()\n",
    "spark_conf = SparkConf()\n",
    "spark_conf.setAll([\n",
    "    ('spark.master', 'spark://spark:7077'),\n",
    "    ('spark.app.name', 'myApp'),\n",
    "    ('spark.submit.deployMode', 'client'),\n",
    "    ('spark.ui.showConsoleProgress', 'true'),\n",
    "    ('spark.eventLog.enabled', 'false'),\n",
    "    ('spark.logConf', 'false'),\n",
    "    ('spark.driver.bindAddress', '0.0.0.0'),\n",
    "    ('spark.driver.host', SPARK_DRIVER_HOST),\n",
    "    ('spark.jars.packages', 'org.apache.hadoop:hadoop-aws:3.2.0,com.amazonaws:aws-java-sdk-bundle:1.11.704,org.apache.spark:spark-hadoop-cloud_2.12:3.3.0'),\n",
    "    (\"spark.hadoop.fs.s3a.endpoint\", 'http://minio:9000'),\n",
    "    ('spark.hadoop.fs.s3a.access.key', 'minio-root-user'),\n",
    "    ('spark.hadoop.fs.s3a.secret.key', 'minio-root-password'),\n",
    "    ('spark.hadoop.fs.s3a.bucket.all.committer.magic.enabled', True),\n",
    "    (\"spark.hadoop.fs.s3a.fast.upload\", True),\n",
    "    (\"spark.hadoop.fs.s3a.path.style.access\", True),\n",
    "    (\"spark.hadoop.fs.s3a.impl\", \"org.apache.hadoop.fs.s3a.S3AFileSystem\")\n",
    "])\n",
    " \n",
    "spark_sess          = SparkSession.builder.config(conf=spark_conf).getOrCreate()\n",
    "spark_ctxt          = spark_sess.sparkContext\n",
    "spark_reader        = spark_sess.read\n",
    "spark_streamReader  = spark_sess.readStream\n",
    "spark_ctxt.setLogLevel(\"WARN\")\n",
    "\n",
    "heartDF = spark_sess.read.option(\"header\",True).csv('s3a://heart/heart.csv')\n",
    "\n",
    "heartDF.show(truncate=False)"
   ]
  },
  {
   "cell_type": "markdown",
   "id": "a10ea037-3dcd-470b-ac75-d1a690723322",
   "metadata": {},
   "source": [
    "## Challenge of the Day\n",
    "\n",
    ". Calculate the average blood pressure of your data\n",
    ". Choose column in heart.csv and determine the average. \n",
    ". Send a broadcast variable with a dictionary of cholesterol (`chol`) levels\n",
    "  . Normal: Less than 200 mg/dL\n",
    "  . Borderline high: 200 to 239 mg/dL\n",
    "  . High: At or above 240 mg/dL\n",
    ". Run the data by creating a new column called `chol_category` (`'N'`, `'B'`, `'H'`)\n",
    ". Ensure that the computation is correct, by `show`"
   ]
  },
  {
   "cell_type": "code",
   "execution_count": 2,
   "id": "9e75d9c0-939d-45ed-84ec-30bd0a575302",
   "metadata": {},
   "outputs": [
    {
     "data": {
      "text/plain": [
       "[Row(avg(chol)=246.26402640264027)]"
      ]
     },
     "execution_count": 2,
     "metadata": {},
     "output_type": "execute_result"
    }
   ],
   "source": [
    "heartDF.select(F.avg('chol')).collect()"
   ]
  },
  {
   "cell_type": "code",
   "execution_count": 3,
   "id": "11e93b48-c99a-491f-9237-db6ba95303eb",
   "metadata": {},
   "outputs": [
    {
     "data": {
      "text/plain": [
       "[Row(avg(trestbps)=131.62376237623764)]"
      ]
     },
     "execution_count": 3,
     "metadata": {},
     "output_type": "execute_result"
    }
   ],
   "source": [
    "heartDF.select(F.avg('trestbps')).collect()"
   ]
  },
  {
   "cell_type": "code",
   "execution_count": 4,
   "id": "d410a01e-d9de-496f-92e0-77f98567f636",
   "metadata": {},
   "outputs": [
    {
     "name": "stdout",
     "output_type": "stream",
     "text": [
      "+---+---+---+--------+----+---+-------+-------+-----+-------+-----+---+----+------+--------+\n",
      "|age|sex| cp|trestbps|chol|fbs|restecg|thalach|exang|oldpeak|slope| ca|thal|target|chol_cat|\n",
      "+---+---+---+--------+----+---+-------+-------+-----+-------+-----+---+----+------+--------+\n",
      "| 63|  1|  3|     145| 233|  1|      0|    150|    0|    2.3|    0|  0|   1|     1|       B|\n",
      "| 37|  1|  2|     130| 250|  0|      1|    187|    0|    3.5|    0|  0|   2|     1|       H|\n",
      "| 41|  0|  1|     130| 204|  0|      0|    172|    0|    1.4|    2|  0|   2|     1|       B|\n",
      "| 56|  1|  1|     120| 236|  0|      1|    178|    0|    0.8|    2|  0|   2|     1|       B|\n",
      "| 57|  0|  0|     120| 354|  0|      1|    163|    1|    0.6|    2|  0|   2|     1|       H|\n",
      "| 57|  1|  0|     140| 192|  0|      1|    148|    0|    0.4|    1|  0|   1|     1|       N|\n",
      "| 56|  0|  1|     140| 294|  0|      0|    153|    0|    1.3|    1|  0|   2|     1|       H|\n",
      "| 44|  1|  1|     120| 263|  0|      1|    173|    0|      0|    2|  0|   3|     1|       H|\n",
      "| 52|  1|  2|     172| 199|  1|      1|    162|    0|    0.5|    2|  0|   3|     1|       N|\n",
      "| 57|  1|  2|     150| 168|  0|      1|    174|    0|    1.6|    2|  0|   2|     1|       N|\n",
      "| 54|  1|  0|     140| 239|  0|      1|    160|    0|    1.2|    2|  0|   2|     1|       B|\n",
      "| 48|  0|  2|     130| 275|  0|      1|    139|    0|    0.2|    2|  0|   2|     1|       H|\n",
      "| 49|  1|  1|     130| 266|  0|      1|    171|    0|    0.6|    2|  0|   2|     1|       H|\n",
      "| 64|  1|  3|     110| 211|  0|      0|    144|    1|    1.8|    1|  0|   2|     1|       B|\n",
      "| 58|  0|  3|     150| 283|  1|      0|    162|    0|      1|    2|  0|   2|     1|       H|\n",
      "| 50|  0|  2|     120| 219|  0|      1|    158|    0|    1.6|    1|  0|   2|     1|       B|\n",
      "| 58|  0|  2|     120| 340|  0|      1|    172|    0|      0|    2|  0|   2|     1|       H|\n",
      "| 66|  0|  3|     150| 226|  0|      1|    114|    0|    2.6|    0|  0|   2|     1|       B|\n",
      "| 43|  1|  0|     150| 247|  0|      1|    171|    0|    1.5|    2|  0|   2|     1|       H|\n",
      "| 69|  0|  3|     140| 239|  0|      1|    151|    0|    1.8|    2|  2|   2|     1|       B|\n",
      "+---+---+---+--------+----+---+-------+-------+-----+-------+-----+---+----+------+--------+\n",
      "only showing top 20 rows\n",
      "\n"
     ]
    }
   ],
   "source": [
    "cholcat = {200:\"N\", 239:\"B\", 240:\"H\"}\n",
    "broadcastCC = spark_ctxt.broadcast(cholcat)\n",
    "\n",
    "NewHeartdf = heartDF.withColumn(\n",
    "    'chol_cat',\n",
    "    F.when((F.col(\"chol\") <= 200), \"N\")\\\n",
    "    .when(F.col('chol').between(200,239), \"B\")\\\n",
    "    .when((F.col(\"chol\") > 239), \"H\")\\\n",
    "    .otherwise(0)\n",
    ")\n",
    "NewHeartdf.show()"
   ]
  },
  {
   "cell_type": "code",
   "execution_count": 5,
   "id": "f7475802-6e7c-4456-b62f-be144a4c0508",
   "metadata": {},
   "outputs": [
    {
     "ename": "AttributeError",
     "evalue": "'DataFrame' object has no attribute 'map'",
     "output_type": "error",
     "traceback": [
      "\u001b[0;31m---------------------------------------------------------------------------\u001b[0m",
      "\u001b[0;31mAttributeError\u001b[0m                            Traceback (most recent call last)",
      "Cell \u001b[0;32mIn [5], line 5\u001b[0m\n\u001b[1;32m      1\u001b[0m \u001b[38;5;28;01mdef\u001b[39;00m \u001b[38;5;21mmy_func\u001b[39m(chol):\n\u001b[1;32m      2\u001b[0m     \u001b[38;5;28;01mreturn\u001b[39;00m cholcat[chol]\n\u001b[0;32m----> 5\u001b[0m result \u001b[38;5;241m=\u001b[39m heartDF\u001b[38;5;241m.\u001b[39mmap(\u001b[38;5;28;01mlambda\u001b[39;00m chol: my_func(chol))\u001b[38;5;241m.\u001b[39mcollect()\n\u001b[1;32m      7\u001b[0m result\u001b[38;5;241m.\u001b[39mshow()\n",
      "File \u001b[0;32m~opt/bitnami/spark/python/pyspark/sql/dataframe.py:1988\u001b[0m, in \u001b[0;36mDataFrame.__getattr__\u001b[0;34m(self, name)\u001b[0m\n\u001b[1;32m   1978\u001b[0m \u001b[38;5;124;03m\"\"\"Returns the :class:`Column` denoted by ``name``.\u001b[39;00m\n\u001b[1;32m   1979\u001b[0m \n\u001b[1;32m   1980\u001b[0m \u001b[38;5;124;03m.. versionadded:: 1.3.0\u001b[39;00m\n\u001b[0;32m   (...)\u001b[0m\n\u001b[1;32m   1985\u001b[0m \u001b[38;5;124;03m[Row(age=2), Row(age=5)]\u001b[39;00m\n\u001b[1;32m   1986\u001b[0m \u001b[38;5;124;03m\"\"\"\u001b[39;00m\n\u001b[1;32m   1987\u001b[0m \u001b[38;5;28;01mif\u001b[39;00m name \u001b[38;5;129;01mnot\u001b[39;00m \u001b[38;5;129;01min\u001b[39;00m \u001b[38;5;28mself\u001b[39m\u001b[38;5;241m.\u001b[39mcolumns:\n\u001b[0;32m-> 1988\u001b[0m     \u001b[38;5;28;01mraise\u001b[39;00m \u001b[38;5;167;01mAttributeError\u001b[39;00m(\n\u001b[1;32m   1989\u001b[0m         \u001b[38;5;124m\"\u001b[39m\u001b[38;5;124m'\u001b[39m\u001b[38;5;132;01m%s\u001b[39;00m\u001b[38;5;124m'\u001b[39m\u001b[38;5;124m object has no attribute \u001b[39m\u001b[38;5;124m'\u001b[39m\u001b[38;5;132;01m%s\u001b[39;00m\u001b[38;5;124m'\u001b[39m\u001b[38;5;124m\"\u001b[39m \u001b[38;5;241m%\u001b[39m (\u001b[38;5;28mself\u001b[39m\u001b[38;5;241m.\u001b[39m\u001b[38;5;18m__class__\u001b[39m\u001b[38;5;241m.\u001b[39m\u001b[38;5;18m__name__\u001b[39m, name)\n\u001b[1;32m   1990\u001b[0m     )\n\u001b[1;32m   1991\u001b[0m jc \u001b[38;5;241m=\u001b[39m \u001b[38;5;28mself\u001b[39m\u001b[38;5;241m.\u001b[39m_jdf\u001b[38;5;241m.\u001b[39mapply(name)\n\u001b[1;32m   1992\u001b[0m \u001b[38;5;28;01mreturn\u001b[39;00m Column(jc)\n",
      "\u001b[0;31mAttributeError\u001b[0m: 'DataFrame' object has no attribute 'map'"
     ]
    }
   ],
   "source": [
    "def my_func(chol):\n",
    "    return cholcat[chol]\n",
    "\n",
    "\n",
    "result = heartDF.map(lambda chol: my_func(chol)).collect()\n",
    "\n",
    "result.show()\n"
   ]
  },
  {
   "cell_type": "code",
   "execution_count": 6,
   "id": "6e2851c7-ec9e-4af1-bcf5-6994984225d6",
   "metadata": {},
   "outputs": [
    {
     "name": "stderr",
     "output_type": "stream",
     "text": [
      "                                                                                \r"
     ]
    },
    {
     "name": "stdout",
     "output_type": "stream",
     "text": [
      "+---+---+---+--------+----+---+-------+-------+-----+-------+-----+---+----+------+--------+\n",
      "|age|sex| cp|trestbps|chol|fbs|restecg|thalach|exang|oldpeak|slope| ca|thal|target|chol_cal|\n",
      "+---+---+---+--------+----+---+-------+-------+-----+-------+-----+---+----+------+--------+\n",
      "| 63|  1|  3|     145| 233|  1|      0|    150|    0|    2.3|    0|  0|   1|     1|       B|\n",
      "| 37|  1|  2|     130| 250|  0|      1|    187|    0|    3.5|    0|  0|   2|     1|    null|\n",
      "| 41|  0|  1|     130| 204|  0|      0|    172|    0|    1.4|    2|  0|   2|     1|       B|\n",
      "| 56|  1|  1|     120| 236|  0|      1|    178|    0|    0.8|    2|  0|   2|     1|       B|\n",
      "| 57|  0|  0|     120| 354|  0|      1|    163|    1|    0.6|    2|  0|   2|     1|    null|\n",
      "| 57|  1|  0|     140| 192|  0|      1|    148|    0|    0.4|    1|  0|   1|     1|       N|\n",
      "| 56|  0|  1|     140| 294|  0|      0|    153|    0|    1.3|    1|  0|   2|     1|    null|\n",
      "| 44|  1|  1|     120| 263|  0|      1|    173|    0|    0.0|    2|  0|   3|     1|    null|\n",
      "| 52|  1|  2|     172| 199|  1|      1|    162|    0|    0.5|    2|  0|   3|     1|       N|\n",
      "| 57|  1|  2|     150| 168|  0|      1|    174|    0|    1.6|    2|  0|   2|     1|       N|\n",
      "| 54|  1|  0|     140| 239|  0|      1|    160|    0|    1.2|    2|  0|   2|     1|       H|\n",
      "| 48|  0|  2|     130| 275|  0|      1|    139|    0|    0.2|    2|  0|   2|     1|    null|\n",
      "| 49|  1|  1|     130| 266|  0|      1|    171|    0|    0.6|    2|  0|   2|     1|    null|\n",
      "| 64|  1|  3|     110| 211|  0|      0|    144|    1|    1.8|    1|  0|   2|     1|       B|\n",
      "| 58|  0|  3|     150| 283|  1|      0|    162|    0|    1.0|    2|  0|   2|     1|    null|\n",
      "| 50|  0|  2|     120| 219|  0|      1|    158|    0|    1.6|    1|  0|   2|     1|       B|\n",
      "| 58|  0|  2|     120| 340|  0|      1|    172|    0|    0.0|    2|  0|   2|     1|    null|\n",
      "| 66|  0|  3|     150| 226|  0|      1|    114|    0|    2.6|    0|  0|   2|     1|       B|\n",
      "| 43|  1|  0|     150| 247|  0|      1|    171|    0|    1.5|    2|  0|   2|     1|    null|\n",
      "| 69|  0|  3|     140| 239|  0|      1|    151|    0|    1.8|    2|  2|   2|     1|       H|\n",
      "+---+---+---+--------+----+---+-------+-------+-----+-------+-----+---+----+------+--------+\n",
      "only showing top 20 rows\n",
      "\n"
     ]
    },
    {
     "name": "stderr",
     "output_type": "stream",
     "text": [
      "                                                                                \r"
     ]
    }
   ],
   "source": [
    "heartDF = spark_sess.read.option(\"header\",True).option(\"inferSchema\", True).csv('s3a://heart/heart.csv')\n",
    "brodcast_category = {200 :'N', 239:'B', 240:'H'}\n",
    "broadcastCats = spark_ctxt.broadcast(brodcast_category)\n",
    "\n",
    "def determineCategory(num):\n",
    "    for key, value in broadcastCats.value.items():\n",
    "        if num < key:\n",
    "            return value\n",
    "        \n",
    "determineCategoryUDF = F.udf(lambda c: determineCategory(c),T.StringType())  \n",
    "resultFrame = heartDF.withColumn('chol_cal', determineCategoryUDF(heartDF.chol))\n",
    "resultFrame.show()"
   ]
  },
  {
   "cell_type": "code",
   "execution_count": 7,
   "id": "ccdf7f60-63dc-4e51-89d6-e29ef1f844df",
   "metadata": {},
   "outputs": [
    {
     "data": {
      "text/plain": [
       "'N'"
      ]
     },
     "execution_count": 7,
     "metadata": {},
     "output_type": "execute_result"
    }
   ],
   "source": [
    "broadcast_category = { 240: 'H', 239: 'B', 200 : 'N'}\n",
    "broadcastCats = spark_ctxt.broadcast(broadcast_category)\n",
    "\n",
    "def determineCategory(num):\n",
    "    for key, value in broadcastCats.value.items():\n",
    "        #print(key)\n",
    "        if num >= key:\n",
    "            return value\n",
    "        else:\n",
    "            return 'N'\n",
    "\n",
    "result = determineCategory(141)     \n",
    "result"
   ]
  },
  {
   "cell_type": "code",
   "execution_count": 8,
   "id": "90d245d6-5b53-43a7-ba87-ba6a6c5afec0",
   "metadata": {},
   "outputs": [
    {
     "data": {
      "text/plain": [
       "'B'"
      ]
     },
     "execution_count": 8,
     "metadata": {},
     "output_type": "execute_result"
    }
   ],
   "source": [
    "broadcast_category = { 240: 'H', 239: 'B', 200 : 'N'}\n",
    "broadcastCats = spark_ctxt.broadcast(broadcast_category)\n",
    "\n",
    "def determineCategory(num):\n",
    "    answer = 'H'\n",
    "    for key, value in broadcastCats.value.items():\n",
    "        if num <= key:\n",
    "            answer = value\n",
    "    return answer  \n",
    "            \n",
    "result = determineCategory(220)     \n",
    "result"
   ]
  },
  {
   "cell_type": "code",
   "execution_count": 9,
   "id": "34953a21-a2ab-4dea-8f7a-08c956afb4f8",
   "metadata": {},
   "outputs": [
    {
     "name": "stdout",
     "output_type": "stream",
     "text": [
      "+---+---+---+--------+----+---+-------+-------+-----+-------+-----+---+----+------+--------+\n",
      "|age|sex| cp|trestbps|chol|fbs|restecg|thalach|exang|oldpeak|slope| ca|thal|target|chol_cal|\n",
      "+---+---+---+--------+----+---+-------+-------+-----+-------+-----+---+----+------+--------+\n",
      "| 63|  1|  3|     145| 233|  1|      0|    150|    0|    2.3|    0|  0|   1|     1|       B|\n",
      "| 37|  1|  2|     130| 250|  0|      1|    187|    0|    3.5|    0|  0|   2|     1|       H|\n",
      "| 41|  0|  1|     130| 204|  0|      0|    172|    0|    1.4|    2|  0|   2|     1|       B|\n",
      "| 56|  1|  1|     120| 236|  0|      1|    178|    0|    0.8|    2|  0|   2|     1|       B|\n",
      "| 57|  0|  0|     120| 354|  0|      1|    163|    1|    0.6|    2|  0|   2|     1|       H|\n",
      "| 57|  1|  0|     140| 192|  0|      1|    148|    0|    0.4|    1|  0|   1|     1|       N|\n",
      "| 56|  0|  1|     140| 294|  0|      0|    153|    0|    1.3|    1|  0|   2|     1|       H|\n",
      "| 44|  1|  1|     120| 263|  0|      1|    173|    0|    0.0|    2|  0|   3|     1|       H|\n",
      "| 52|  1|  2|     172| 199|  1|      1|    162|    0|    0.5|    2|  0|   3|     1|       N|\n",
      "| 57|  1|  2|     150| 168|  0|      1|    174|    0|    1.6|    2|  0|   2|     1|       N|\n",
      "| 54|  1|  0|     140| 239|  0|      1|    160|    0|    1.2|    2|  0|   2|     1|       B|\n",
      "| 48|  0|  2|     130| 275|  0|      1|    139|    0|    0.2|    2|  0|   2|     1|       H|\n",
      "| 49|  1|  1|     130| 266|  0|      1|    171|    0|    0.6|    2|  0|   2|     1|       H|\n",
      "| 64|  1|  3|     110| 211|  0|      0|    144|    1|    1.8|    1|  0|   2|     1|       B|\n",
      "| 58|  0|  3|     150| 283|  1|      0|    162|    0|    1.0|    2|  0|   2|     1|       H|\n",
      "| 50|  0|  2|     120| 219|  0|      1|    158|    0|    1.6|    1|  0|   2|     1|       B|\n",
      "| 58|  0|  2|     120| 340|  0|      1|    172|    0|    0.0|    2|  0|   2|     1|       H|\n",
      "| 66|  0|  3|     150| 226|  0|      1|    114|    0|    2.6|    0|  0|   2|     1|       B|\n",
      "| 43|  1|  0|     150| 247|  0|      1|    171|    0|    1.5|    2|  0|   2|     1|       H|\n",
      "| 69|  0|  3|     140| 239|  0|      1|    151|    0|    1.8|    2|  2|   2|     1|       B|\n",
      "+---+---+---+--------+----+---+-------+-------+-----+-------+-----+---+----+------+--------+\n",
      "only showing top 20 rows\n",
      "\n"
     ]
    }
   ],
   "source": [
    "determineCategoryUDF = F.udf(lambda c: determineCategory(c),T.StringType())  \n",
    "resultFrame = heartDF.withColumn('chol_cal', determineCategoryUDF(heartDF.chol))\n",
    "resultFrame.show()"
   ]
  },
  {
   "cell_type": "code",
   "execution_count": 10,
   "id": "16811dab-de60-49b4-b628-b74a095fc90c",
   "metadata": {},
   "outputs": [
    {
     "ename": "AttributeError",
     "evalue": "'str' object has no attribute 'repartition'",
     "output_type": "error",
     "traceback": [
      "\u001b[0;31m---------------------------------------------------------------------------\u001b[0m",
      "\u001b[0;31mAttributeError\u001b[0m                            Traceback (most recent call last)",
      "Cell \u001b[0;32mIn [10], line 1\u001b[0m\n\u001b[0;32m----> 1\u001b[0m result\u001b[38;5;241m.\u001b[39mrepartition(\u001b[38;5;241m5\u001b[39m)\n",
      "\u001b[0;31mAttributeError\u001b[0m: 'str' object has no attribute 'repartition'"
     ]
    }
   ],
   "source": [
    "result.repartition(5)"
   ]
  },
  {
   "cell_type": "code",
   "execution_count": 12,
   "id": "7a105fb5-ce3e-4604-962d-c2d9c9a60a35",
   "metadata": {},
   "outputs": [
    {
     "data": {
      "text/plain": [
       "[[Row(age=35, sex=1, cp=1, trestbps=122, chol=192, fbs=0, restecg=1, thalach=174, exang=0, oldpeak=0.0, slope=2, ca=0, thal=2, target=1, chol_cal='N'),\n",
       "  Row(age=63, sex=1, cp=0, trestbps=130, chol=254, fbs=0, restecg=0, thalach=147, exang=0, oldpeak=1.4, slope=1, ca=1, thal=3, target=0, chol_cal='H'),\n",
       "  Row(age=56, sex=1, cp=3, trestbps=120, chol=193, fbs=0, restecg=0, thalach=162, exang=0, oldpeak=1.9, slope=1, ca=0, thal=3, target=1, chol_cal='N'),\n",
       "  Row(age=62, sex=0, cp=0, trestbps=160, chol=164, fbs=0, restecg=0, thalach=145, exang=0, oldpeak=6.2, slope=0, ca=3, thal=3, target=0, chol_cal='N'),\n",
       "  Row(age=65, sex=0, cp=2, trestbps=155, chol=269, fbs=0, restecg=1, thalach=148, exang=0, oldpeak=0.8, slope=2, ca=0, thal=2, target=1, chol_cal='H'),\n",
       "  Row(age=63, sex=0, cp=1, trestbps=140, chol=195, fbs=0, restecg=1, thalach=179, exang=0, oldpeak=0.0, slope=2, ca=2, thal=2, target=1, chol_cal='N'),\n",
       "  Row(age=43, sex=1, cp=0, trestbps=150, chol=247, fbs=0, restecg=1, thalach=171, exang=0, oldpeak=1.5, slope=2, ca=0, thal=2, target=1, chol_cal='H'),\n",
       "  Row(age=39, sex=1, cp=0, trestbps=118, chol=219, fbs=0, restecg=1, thalach=140, exang=0, oldpeak=1.2, slope=1, ca=0, thal=3, target=0, chol_cal='B'),\n",
       "  Row(age=50, sex=1, cp=2, trestbps=140, chol=233, fbs=0, restecg=1, thalach=163, exang=0, oldpeak=0.6, slope=1, ca=1, thal=3, target=0, chol_cal='B'),\n",
       "  Row(age=41, sex=1, cp=2, trestbps=130, chol=214, fbs=0, restecg=0, thalach=168, exang=0, oldpeak=2.0, slope=1, ca=0, thal=2, target=1, chol_cal='B'),\n",
       "  Row(age=43, sex=1, cp=0, trestbps=120, chol=177, fbs=0, restecg=0, thalach=120, exang=1, oldpeak=2.5, slope=1, ca=0, thal=3, target=0, chol_cal='N'),\n",
       "  Row(age=62, sex=1, cp=2, trestbps=130, chol=231, fbs=0, restecg=1, thalach=146, exang=0, oldpeak=1.8, slope=1, ca=3, thal=3, target=1, chol_cal='B'),\n",
       "  Row(age=59, sex=1, cp=3, trestbps=178, chol=270, fbs=0, restecg=0, thalach=145, exang=0, oldpeak=4.2, slope=0, ca=0, thal=3, target=1, chol_cal='H'),\n",
       "  Row(age=71, sex=0, cp=1, trestbps=160, chol=302, fbs=0, restecg=1, thalach=162, exang=0, oldpeak=0.4, slope=2, ca=2, thal=2, target=1, chol_cal='H'),\n",
       "  Row(age=63, sex=1, cp=3, trestbps=145, chol=233, fbs=1, restecg=0, thalach=150, exang=0, oldpeak=2.3, slope=0, ca=0, thal=1, target=1, chol_cal='B'),\n",
       "  Row(age=66, sex=1, cp=0, trestbps=160, chol=228, fbs=0, restecg=0, thalach=138, exang=0, oldpeak=2.3, slope=2, ca=0, thal=1, target=1, chol_cal='B'),\n",
       "  Row(age=58, sex=0, cp=0, trestbps=100, chol=248, fbs=0, restecg=0, thalach=122, exang=0, oldpeak=1.0, slope=1, ca=0, thal=2, target=1, chol_cal='H'),\n",
       "  Row(age=43, sex=1, cp=0, trestbps=110, chol=211, fbs=0, restecg=1, thalach=161, exang=0, oldpeak=0.0, slope=2, ca=0, thal=3, target=1, chol_cal='B'),\n",
       "  Row(age=60, sex=0, cp=0, trestbps=150, chol=258, fbs=0, restecg=0, thalach=157, exang=0, oldpeak=2.6, slope=1, ca=2, thal=3, target=0, chol_cal='H'),\n",
       "  Row(age=40, sex=1, cp=0, trestbps=152, chol=223, fbs=0, restecg=1, thalach=181, exang=0, oldpeak=0.0, slope=2, ca=0, thal=3, target=0, chol_cal='B'),\n",
       "  Row(age=57, sex=1, cp=1, trestbps=154, chol=232, fbs=0, restecg=0, thalach=164, exang=0, oldpeak=0.0, slope=2, ca=1, thal=2, target=0, chol_cal='B'),\n",
       "  Row(age=63, sex=0, cp=0, trestbps=124, chol=197, fbs=0, restecg=1, thalach=136, exang=1, oldpeak=0.0, slope=1, ca=0, thal=2, target=0, chol_cal='N'),\n",
       "  Row(age=60, sex=1, cp=0, trestbps=117, chol=230, fbs=1, restecg=1, thalach=160, exang=1, oldpeak=1.4, slope=2, ca=2, thal=3, target=0, chol_cal='B'),\n",
       "  Row(age=61, sex=0, cp=0, trestbps=130, chol=330, fbs=0, restecg=0, thalach=169, exang=0, oldpeak=0.0, slope=2, ca=0, thal=2, target=0, chol_cal='H'),\n",
       "  Row(age=29, sex=1, cp=1, trestbps=130, chol=204, fbs=0, restecg=0, thalach=202, exang=0, oldpeak=0.0, slope=2, ca=0, thal=2, target=1, chol_cal='B'),\n",
       "  Row(age=57, sex=1, cp=0, trestbps=150, chol=276, fbs=0, restecg=0, thalach=112, exang=1, oldpeak=0.6, slope=1, ca=1, thal=1, target=0, chol_cal='H'),\n",
       "  Row(age=61, sex=1, cp=0, trestbps=138, chol=166, fbs=0, restecg=0, thalach=125, exang=1, oldpeak=3.6, slope=1, ca=1, thal=2, target=0, chol_cal='N'),\n",
       "  Row(age=57, sex=1, cp=0, trestbps=132, chol=207, fbs=0, restecg=1, thalach=168, exang=1, oldpeak=0.0, slope=2, ca=0, thal=3, target=1, chol_cal='B'),\n",
       "  Row(age=57, sex=0, cp=1, trestbps=130, chol=236, fbs=0, restecg=0, thalach=174, exang=0, oldpeak=0.0, slope=1, ca=1, thal=2, target=0, chol_cal='B'),\n",
       "  Row(age=55, sex=1, cp=0, trestbps=160, chol=289, fbs=0, restecg=0, thalach=145, exang=1, oldpeak=0.8, slope=1, ca=1, thal=3, target=0, chol_cal='H'),\n",
       "  Row(age=66, sex=0, cp=3, trestbps=150, chol=226, fbs=0, restecg=1, thalach=114, exang=0, oldpeak=2.6, slope=0, ca=0, thal=2, target=1, chol_cal='B'),\n",
       "  Row(age=54, sex=1, cp=1, trestbps=192, chol=283, fbs=0, restecg=0, thalach=195, exang=0, oldpeak=0.0, slope=2, ca=1, thal=3, target=0, chol_cal='H'),\n",
       "  Row(age=57, sex=0, cp=0, trestbps=120, chol=354, fbs=0, restecg=1, thalach=163, exang=1, oldpeak=0.6, slope=2, ca=0, thal=2, target=1, chol_cal='H'),\n",
       "  Row(age=54, sex=1, cp=2, trestbps=125, chol=273, fbs=0, restecg=0, thalach=152, exang=0, oldpeak=0.5, slope=0, ca=1, thal=2, target=1, chol_cal='H'),\n",
       "  Row(age=53, sex=1, cp=0, trestbps=142, chol=226, fbs=0, restecg=0, thalach=111, exang=1, oldpeak=0.0, slope=2, ca=0, thal=3, target=1, chol_cal='B'),\n",
       "  Row(age=55, sex=0, cp=0, trestbps=180, chol=327, fbs=0, restecg=2, thalach=117, exang=1, oldpeak=3.4, slope=1, ca=0, thal=2, target=0, chol_cal='H'),\n",
       "  Row(age=58, sex=1, cp=1, trestbps=125, chol=220, fbs=0, restecg=1, thalach=144, exang=0, oldpeak=0.4, slope=1, ca=4, thal=3, target=1, chol_cal='B'),\n",
       "  Row(age=61, sex=1, cp=2, trestbps=150, chol=243, fbs=1, restecg=1, thalach=137, exang=1, oldpeak=1.0, slope=1, ca=0, thal=2, target=1, chol_cal='H'),\n",
       "  Row(age=45, sex=1, cp=3, trestbps=110, chol=264, fbs=0, restecg=1, thalach=132, exang=0, oldpeak=1.2, slope=1, ca=0, thal=3, target=0, chol_cal='H'),\n",
       "  Row(age=64, sex=1, cp=0, trestbps=145, chol=212, fbs=0, restecg=0, thalach=132, exang=0, oldpeak=2.0, slope=1, ca=2, thal=1, target=0, chol_cal='B'),\n",
       "  Row(age=57, sex=1, cp=0, trestbps=130, chol=131, fbs=0, restecg=1, thalach=115, exang=1, oldpeak=1.2, slope=1, ca=1, thal=3, target=0, chol_cal='N'),\n",
       "  Row(age=69, sex=1, cp=2, trestbps=140, chol=254, fbs=0, restecg=0, thalach=146, exang=0, oldpeak=2.0, slope=1, ca=3, thal=3, target=0, chol_cal='H'),\n",
       "  Row(age=44, sex=1, cp=2, trestbps=120, chol=226, fbs=0, restecg=1, thalach=169, exang=0, oldpeak=0.0, slope=2, ca=0, thal=2, target=1, chol_cal='B'),\n",
       "  Row(age=58, sex=1, cp=0, trestbps=128, chol=216, fbs=0, restecg=0, thalach=131, exang=1, oldpeak=2.2, slope=1, ca=3, thal=3, target=0, chol_cal='B'),\n",
       "  Row(age=42, sex=0, cp=0, trestbps=102, chol=265, fbs=0, restecg=0, thalach=122, exang=0, oldpeak=0.6, slope=1, ca=0, thal=2, target=1, chol_cal='H'),\n",
       "  Row(age=54, sex=1, cp=0, trestbps=110, chol=239, fbs=0, restecg=1, thalach=126, exang=1, oldpeak=2.8, slope=1, ca=1, thal=3, target=0, chol_cal='B'),\n",
       "  Row(age=59, sex=1, cp=0, trestbps=138, chol=271, fbs=0, restecg=0, thalach=182, exang=0, oldpeak=0.0, slope=2, ca=0, thal=2, target=1, chol_cal='H'),\n",
       "  Row(age=66, sex=0, cp=2, trestbps=146, chol=278, fbs=0, restecg=0, thalach=152, exang=0, oldpeak=0.0, slope=1, ca=1, thal=2, target=1, chol_cal='H'),\n",
       "  Row(age=70, sex=1, cp=2, trestbps=160, chol=269, fbs=0, restecg=1, thalach=112, exang=1, oldpeak=2.9, slope=1, ca=1, thal=3, target=0, chol_cal='H'),\n",
       "  Row(age=60, sex=1, cp=0, trestbps=130, chol=206, fbs=0, restecg=0, thalach=132, exang=1, oldpeak=2.4, slope=1, ca=2, thal=3, target=0, chol_cal='B'),\n",
       "  Row(age=54, sex=0, cp=2, trestbps=160, chol=201, fbs=0, restecg=1, thalach=163, exang=0, oldpeak=0.0, slope=2, ca=1, thal=2, target=1, chol_cal='B'),\n",
       "  Row(age=54, sex=1, cp=2, trestbps=120, chol=258, fbs=0, restecg=0, thalach=147, exang=0, oldpeak=0.4, slope=1, ca=0, thal=3, target=1, chol_cal='H'),\n",
       "  Row(age=60, sex=1, cp=0, trestbps=140, chol=293, fbs=0, restecg=0, thalach=170, exang=0, oldpeak=1.2, slope=1, ca=2, thal=3, target=0, chol_cal='H'),\n",
       "  Row(age=58, sex=1, cp=0, trestbps=114, chol=318, fbs=0, restecg=2, thalach=140, exang=0, oldpeak=4.4, slope=0, ca=3, thal=1, target=0, chol_cal='H'),\n",
       "  Row(age=61, sex=0, cp=0, trestbps=145, chol=307, fbs=0, restecg=0, thalach=146, exang=1, oldpeak=1.0, slope=1, ca=0, thal=3, target=0, chol_cal='H'),\n",
       "  Row(age=45, sex=1, cp=1, trestbps=128, chol=308, fbs=0, restecg=0, thalach=170, exang=0, oldpeak=0.0, slope=2, ca=0, thal=2, target=1, chol_cal='H'),\n",
       "  Row(age=57, sex=1, cp=2, trestbps=150, chol=168, fbs=0, restecg=1, thalach=174, exang=0, oldpeak=1.6, slope=2, ca=0, thal=2, target=1, chol_cal='N'),\n",
       "  Row(age=43, sex=0, cp=0, trestbps=132, chol=341, fbs=1, restecg=0, thalach=136, exang=1, oldpeak=3.0, slope=1, ca=0, thal=3, target=0, chol_cal='H'),\n",
       "  Row(age=59, sex=1, cp=3, trestbps=160, chol=273, fbs=0, restecg=0, thalach=125, exang=0, oldpeak=0.0, slope=2, ca=0, thal=2, target=0, chol_cal='H'),\n",
       "  Row(age=59, sex=0, cp=0, trestbps=174, chol=249, fbs=0, restecg=1, thalach=143, exang=1, oldpeak=0.0, slope=1, ca=0, thal=2, target=0, chol_cal='H')],\n",
       " [Row(age=49, sex=0, cp=1, trestbps=134, chol=271, fbs=0, restecg=1, thalach=162, exang=0, oldpeak=0.0, slope=1, ca=0, thal=2, target=1, chol_cal='H'),\n",
       "  Row(age=34, sex=0, cp=1, trestbps=118, chol=210, fbs=0, restecg=1, thalach=192, exang=0, oldpeak=0.7, slope=2, ca=0, thal=2, target=1, chol_cal='B'),\n",
       "  Row(age=41, sex=0, cp=2, trestbps=112, chol=268, fbs=0, restecg=0, thalach=172, exang=1, oldpeak=0.0, slope=2, ca=0, thal=2, target=1, chol_cal='H'),\n",
       "  Row(age=53, sex=1, cp=0, trestbps=123, chol=282, fbs=0, restecg=1, thalach=95, exang=1, oldpeak=2.0, slope=1, ca=2, thal=3, target=0, chol_cal='H'),\n",
       "  Row(age=52, sex=1, cp=0, trestbps=125, chol=212, fbs=0, restecg=1, thalach=168, exang=0, oldpeak=1.0, slope=2, ca=2, thal=3, target=0, chol_cal='B'),\n",
       "  Row(age=51, sex=0, cp=2, trestbps=120, chol=295, fbs=0, restecg=0, thalach=157, exang=0, oldpeak=0.6, slope=2, ca=0, thal=2, target=1, chol_cal='H'),\n",
       "  Row(age=71, sex=0, cp=0, trestbps=112, chol=149, fbs=0, restecg=1, thalach=125, exang=0, oldpeak=1.6, slope=1, ca=0, thal=2, target=1, chol_cal='N'),\n",
       "  Row(age=42, sex=1, cp=1, trestbps=120, chol=295, fbs=0, restecg=1, thalach=162, exang=0, oldpeak=0.0, slope=2, ca=0, thal=2, target=1, chol_cal='H'),\n",
       "  Row(age=49, sex=0, cp=0, trestbps=130, chol=269, fbs=0, restecg=1, thalach=163, exang=0, oldpeak=0.0, slope=2, ca=0, thal=2, target=1, chol_cal='H'),\n",
       "  Row(age=51, sex=1, cp=3, trestbps=125, chol=213, fbs=0, restecg=0, thalach=125, exang=1, oldpeak=1.4, slope=2, ca=1, thal=2, target=1, chol_cal='B'),\n",
       "  Row(age=39, sex=1, cp=2, trestbps=140, chol=321, fbs=0, restecg=0, thalach=182, exang=0, oldpeak=0.0, slope=2, ca=0, thal=2, target=1, chol_cal='H'),\n",
       "  Row(age=47, sex=1, cp=0, trestbps=110, chol=275, fbs=0, restecg=0, thalach=118, exang=1, oldpeak=1.0, slope=1, ca=1, thal=2, target=0, chol_cal='H'),\n",
       "  Row(age=35, sex=0, cp=0, trestbps=138, chol=183, fbs=0, restecg=1, thalach=182, exang=0, oldpeak=1.4, slope=2, ca=0, thal=2, target=1, chol_cal='N'),\n",
       "  Row(age=58, sex=1, cp=0, trestbps=150, chol=270, fbs=0, restecg=0, thalach=111, exang=1, oldpeak=0.8, slope=2, ca=0, thal=3, target=0, chol_cal='H'),\n",
       "  Row(age=43, sex=1, cp=0, trestbps=115, chol=303, fbs=0, restecg=1, thalach=181, exang=0, oldpeak=1.2, slope=1, ca=0, thal=2, target=1, chol_cal='H'),\n",
       "  Row(age=59, sex=1, cp=0, trestbps=170, chol=326, fbs=0, restecg=0, thalach=140, exang=1, oldpeak=3.4, slope=0, ca=0, thal=3, target=0, chol_cal='H'),\n",
       "  Row(age=42, sex=0, cp=2, trestbps=120, chol=209, fbs=0, restecg=1, thalach=173, exang=0, oldpeak=0.0, slope=1, ca=0, thal=2, target=1, chol_cal='B'),\n",
       "  Row(age=51, sex=0, cp=0, trestbps=130, chol=305, fbs=0, restecg=1, thalach=142, exang=1, oldpeak=1.2, slope=1, ca=0, thal=3, target=0, chol_cal='H'),\n",
       "  Row(age=46, sex=1, cp=1, trestbps=101, chol=197, fbs=1, restecg=1, thalach=156, exang=0, oldpeak=0.0, slope=2, ca=0, thal=3, target=1, chol_cal='N'),\n",
       "  Row(age=63, sex=0, cp=0, trestbps=108, chol=269, fbs=0, restecg=1, thalach=169, exang=1, oldpeak=1.8, slope=1, ca=2, thal=2, target=0, chol_cal='H'),\n",
       "  Row(age=62, sex=0, cp=0, trestbps=140, chol=394, fbs=0, restecg=0, thalach=157, exang=0, oldpeak=1.2, slope=1, ca=0, thal=2, target=1, chol_cal='H'),\n",
       "  Row(age=42, sex=1, cp=0, trestbps=136, chol=315, fbs=0, restecg=1, thalach=125, exang=1, oldpeak=1.8, slope=1, ca=0, thal=1, target=0, chol_cal='H'),\n",
       "  Row(age=68, sex=1, cp=2, trestbps=118, chol=277, fbs=0, restecg=1, thalach=151, exang=0, oldpeak=1.0, slope=2, ca=1, thal=3, target=1, chol_cal='H'),\n",
       "  Row(age=65, sex=1, cp=0, trestbps=120, chol=177, fbs=0, restecg=1, thalach=140, exang=0, oldpeak=0.4, slope=2, ca=0, thal=3, target=1, chol_cal='N'),\n",
       "  Row(age=57, sex=1, cp=0, trestbps=152, chol=274, fbs=0, restecg=1, thalach=88, exang=1, oldpeak=1.2, slope=1, ca=1, thal=3, target=0, chol_cal='H'),\n",
       "  Row(age=51, sex=1, cp=0, trestbps=140, chol=299, fbs=0, restecg=1, thalach=173, exang=1, oldpeak=1.6, slope=2, ca=0, thal=3, target=0, chol_cal='H'),\n",
       "  Row(age=69, sex=1, cp=3, trestbps=160, chol=234, fbs=1, restecg=0, thalach=131, exang=0, oldpeak=0.1, slope=1, ca=1, thal=2, target=1, chol_cal='B'),\n",
       "  Row(age=57, sex=0, cp=0, trestbps=128, chol=303, fbs=0, restecg=0, thalach=159, exang=0, oldpeak=0.0, slope=2, ca=1, thal=2, target=1, chol_cal='H'),\n",
       "  Row(age=41, sex=1, cp=0, trestbps=110, chol=172, fbs=0, restecg=0, thalach=158, exang=0, oldpeak=0.0, slope=2, ca=0, thal=3, target=0, chol_cal='N'),\n",
       "  Row(age=67, sex=1, cp=2, trestbps=152, chol=212, fbs=0, restecg=0, thalach=150, exang=0, oldpeak=0.8, slope=1, ca=0, thal=3, target=0, chol_cal='B'),\n",
       "  Row(age=44, sex=0, cp=2, trestbps=118, chol=242, fbs=0, restecg=1, thalach=149, exang=0, oldpeak=0.3, slope=1, ca=1, thal=2, target=1, chol_cal='H'),\n",
       "  Row(age=58, sex=0, cp=0, trestbps=130, chol=197, fbs=0, restecg=1, thalach=131, exang=0, oldpeak=0.6, slope=1, ca=0, thal=2, target=1, chol_cal='N'),\n",
       "  Row(age=50, sex=0, cp=0, trestbps=110, chol=254, fbs=0, restecg=0, thalach=159, exang=0, oldpeak=0.0, slope=2, ca=0, thal=2, target=1, chol_cal='H'),\n",
       "  Row(age=62, sex=0, cp=0, trestbps=138, chol=294, fbs=1, restecg=1, thalach=106, exang=0, oldpeak=1.9, slope=1, ca=3, thal=2, target=0, chol_cal='H'),\n",
       "  Row(age=46, sex=0, cp=1, trestbps=105, chol=204, fbs=0, restecg=1, thalach=172, exang=0, oldpeak=0.0, slope=2, ca=0, thal=2, target=1, chol_cal='B'),\n",
       "  Row(age=62, sex=0, cp=0, trestbps=140, chol=268, fbs=0, restecg=0, thalach=160, exang=0, oldpeak=3.6, slope=0, ca=2, thal=2, target=0, chol_cal='H'),\n",
       "  Row(age=59, sex=1, cp=3, trestbps=134, chol=204, fbs=0, restecg=1, thalach=162, exang=0, oldpeak=0.8, slope=2, ca=2, thal=2, target=0, chol_cal='B'),\n",
       "  Row(age=52, sex=0, cp=2, trestbps=136, chol=196, fbs=0, restecg=0, thalach=169, exang=0, oldpeak=0.1, slope=1, ca=0, thal=2, target=1, chol_cal='N'),\n",
       "  Row(age=54, sex=0, cp=1, trestbps=132, chol=288, fbs=1, restecg=0, thalach=159, exang=1, oldpeak=0.0, slope=2, ca=1, thal=2, target=1, chol_cal='H'),\n",
       "  Row(age=45, sex=0, cp=1, trestbps=130, chol=234, fbs=0, restecg=0, thalach=175, exang=0, oldpeak=0.6, slope=1, ca=0, thal=2, target=1, chol_cal='B'),\n",
       "  Row(age=47, sex=1, cp=0, trestbps=112, chol=204, fbs=0, restecg=1, thalach=143, exang=0, oldpeak=0.1, slope=2, ca=0, thal=2, target=1, chol_cal='B'),\n",
       "  Row(age=59, sex=1, cp=2, trestbps=126, chol=218, fbs=1, restecg=1, thalach=134, exang=0, oldpeak=2.2, slope=1, ca=1, thal=1, target=0, chol_cal='B'),\n",
       "  Row(age=62, sex=1, cp=1, trestbps=120, chol=281, fbs=0, restecg=0, thalach=103, exang=0, oldpeak=1.4, slope=1, ca=1, thal=3, target=0, chol_cal='H'),\n",
       "  Row(age=48, sex=1, cp=0, trestbps=122, chol=222, fbs=0, restecg=0, thalach=186, exang=0, oldpeak=0.0, slope=2, ca=0, thal=2, target=1, chol_cal='B'),\n",
       "  Row(age=59, sex=1, cp=0, trestbps=140, chol=177, fbs=0, restecg=1, thalach=162, exang=1, oldpeak=0.0, slope=2, ca=1, thal=3, target=0, chol_cal='N'),\n",
       "  Row(age=74, sex=0, cp=1, trestbps=120, chol=269, fbs=0, restecg=0, thalach=121, exang=1, oldpeak=0.2, slope=2, ca=1, thal=2, target=1, chol_cal='H'),\n",
       "  Row(age=48, sex=1, cp=2, trestbps=124, chol=255, fbs=1, restecg=1, thalach=175, exang=0, oldpeak=0.0, slope=2, ca=2, thal=2, target=1, chol_cal='H'),\n",
       "  Row(age=50, sex=1, cp=0, trestbps=144, chol=200, fbs=0, restecg=0, thalach=126, exang=1, oldpeak=0.9, slope=1, ca=0, thal=3, target=0, chol_cal='N'),\n",
       "  Row(age=58, sex=1, cp=0, trestbps=100, chol=234, fbs=0, restecg=1, thalach=156, exang=0, oldpeak=0.1, slope=2, ca=1, thal=3, target=0, chol_cal='B'),\n",
       "  Row(age=57, sex=1, cp=0, trestbps=165, chol=289, fbs=1, restecg=0, thalach=124, exang=0, oldpeak=1.0, slope=1, ca=3, thal=3, target=0, chol_cal='H'),\n",
       "  Row(age=69, sex=0, cp=3, trestbps=140, chol=239, fbs=0, restecg=1, thalach=151, exang=0, oldpeak=1.8, slope=2, ca=2, thal=2, target=1, chol_cal='B'),\n",
       "  Row(age=56, sex=0, cp=0, trestbps=134, chol=409, fbs=0, restecg=0, thalach=150, exang=1, oldpeak=1.9, slope=1, ca=2, thal=3, target=0, chol_cal='H'),\n",
       "  Row(age=63, sex=0, cp=0, trestbps=150, chol=407, fbs=0, restecg=0, thalach=154, exang=0, oldpeak=4.0, slope=1, ca=3, thal=3, target=0, chol_cal='H'),\n",
       "  Row(age=52, sex=1, cp=3, trestbps=118, chol=186, fbs=0, restecg=0, thalach=190, exang=0, oldpeak=0.0, slope=1, ca=0, thal=1, target=1, chol_cal='N'),\n",
       "  Row(age=58, sex=1, cp=0, trestbps=146, chol=218, fbs=0, restecg=1, thalach=105, exang=0, oldpeak=2.0, slope=1, ca=1, thal=3, target=0, chol_cal='B'),\n",
       "  Row(age=63, sex=1, cp=0, trestbps=140, chol=187, fbs=0, restecg=0, thalach=144, exang=1, oldpeak=4.0, slope=2, ca=2, thal=3, target=0, chol_cal='N'),\n",
       "  Row(age=58, sex=0, cp=3, trestbps=150, chol=283, fbs=1, restecg=0, thalach=162, exang=0, oldpeak=1.0, slope=2, ca=0, thal=2, target=1, chol_cal='H'),\n",
       "  Row(age=63, sex=0, cp=2, trestbps=135, chol=252, fbs=0, restecg=0, thalach=172, exang=0, oldpeak=0.0, slope=2, ca=0, thal=2, target=1, chol_cal='H'),\n",
       "  Row(age=57, sex=1, cp=1, trestbps=124, chol=261, fbs=0, restecg=1, thalach=141, exang=0, oldpeak=0.3, slope=2, ca=0, thal=3, target=0, chol_cal='H'),\n",
       "  Row(age=52, sex=1, cp=0, trestbps=112, chol=230, fbs=0, restecg=1, thalach=160, exang=0, oldpeak=0.0, slope=2, ca=1, thal=2, target=0, chol_cal='B'),\n",
       "  Row(age=66, sex=1, cp=0, trestbps=120, chol=302, fbs=0, restecg=0, thalach=151, exang=0, oldpeak=0.4, slope=1, ca=0, thal=2, target=1, chol_cal='H')],\n",
       " [Row(age=60, sex=1, cp=2, trestbps=140, chol=185, fbs=0, restecg=0, thalach=155, exang=0, oldpeak=3.0, slope=1, ca=0, thal=2, target=0, chol_cal='N'),\n",
       "  Row(age=49, sex=1, cp=1, trestbps=130, chol=266, fbs=0, restecg=1, thalach=171, exang=0, oldpeak=0.6, slope=2, ca=0, thal=2, target=1, chol_cal='H'),\n",
       "  Row(age=67, sex=1, cp=0, trestbps=160, chol=286, fbs=0, restecg=0, thalach=108, exang=1, oldpeak=1.5, slope=1, ca=3, thal=2, target=0, chol_cal='H'),\n",
       "  Row(age=37, sex=0, cp=2, trestbps=120, chol=215, fbs=0, restecg=1, thalach=170, exang=0, oldpeak=0.0, slope=2, ca=0, thal=2, target=1, chol_cal='B'),\n",
       "  Row(age=54, sex=1, cp=2, trestbps=150, chol=232, fbs=0, restecg=0, thalach=165, exang=0, oldpeak=1.6, slope=2, ca=0, thal=3, target=1, chol_cal='B'),\n",
       "  Row(age=48, sex=1, cp=1, trestbps=110, chol=229, fbs=0, restecg=1, thalach=168, exang=0, oldpeak=1.0, slope=0, ca=0, thal=3, target=0, chol_cal='B'),\n",
       "  Row(age=58, sex=1, cp=2, trestbps=132, chol=224, fbs=0, restecg=0, thalach=173, exang=0, oldpeak=3.2, slope=2, ca=2, thal=3, target=0, chol_cal='B'),\n",
       "  Row(age=38, sex=1, cp=2, trestbps=138, chol=175, fbs=0, restecg=1, thalach=173, exang=0, oldpeak=0.0, slope=2, ca=4, thal=2, target=1, chol_cal='N'),\n",
       "  Row(age=64, sex=1, cp=2, trestbps=140, chol=335, fbs=0, restecg=1, thalach=158, exang=0, oldpeak=0.0, slope=2, ca=0, thal=2, target=0, chol_cal='H'),\n",
       "  Row(age=43, sex=1, cp=2, trestbps=130, chol=315, fbs=0, restecg=1, thalach=162, exang=0, oldpeak=1.9, slope=2, ca=1, thal=2, target=1, chol_cal='H'),\n",
       "  Row(age=58, sex=0, cp=0, trestbps=170, chol=225, fbs=1, restecg=0, thalach=146, exang=1, oldpeak=2.8, slope=1, ca=2, thal=1, target=0, chol_cal='B'),\n",
       "  Row(age=51, sex=0, cp=2, trestbps=140, chol=308, fbs=0, restecg=0, thalach=142, exang=0, oldpeak=1.5, slope=2, ca=1, thal=2, target=1, chol_cal='H'),\n",
       "  Row(age=42, sex=1, cp=0, trestbps=140, chol=226, fbs=0, restecg=1, thalach=178, exang=0, oldpeak=0.0, slope=2, ca=0, thal=2, target=1, chol_cal='B'),\n",
       "  Row(age=58, sex=0, cp=2, trestbps=120, chol=340, fbs=0, restecg=1, thalach=172, exang=0, oldpeak=0.0, slope=2, ca=0, thal=2, target=1, chol_cal='H'),\n",
       "  Row(age=61, sex=1, cp=0, trestbps=148, chol=203, fbs=0, restecg=1, thalach=161, exang=0, oldpeak=0.0, slope=2, ca=1, thal=3, target=0, chol_cal='B'),\n",
       "  Row(age=48, sex=1, cp=0, trestbps=130, chol=256, fbs=1, restecg=0, thalach=150, exang=1, oldpeak=0.0, slope=2, ca=2, thal=3, target=0, chol_cal='H'),\n",
       "  Row(age=64, sex=1, cp=0, trestbps=120, chol=246, fbs=0, restecg=0, thalach=96, exang=1, oldpeak=2.2, slope=0, ca=1, thal=2, target=0, chol_cal='H'),\n",
       "  Row(age=54, sex=0, cp=2, trestbps=110, chol=214, fbs=0, restecg=1, thalach=158, exang=0, oldpeak=1.6, slope=1, ca=0, thal=2, target=1, chol_cal='B'),\n",
       "  Row(age=46, sex=1, cp=0, trestbps=140, chol=311, fbs=0, restecg=1, thalach=120, exang=1, oldpeak=1.8, slope=1, ca=2, thal=3, target=0, chol_cal='H'),\n",
       "  Row(age=53, sex=1, cp=2, trestbps=130, chol=246, fbs=1, restecg=0, thalach=173, exang=0, oldpeak=0.0, slope=2, ca=3, thal=2, target=1, chol_cal='H'),\n",
       "  Row(age=53, sex=1, cp=2, trestbps=130, chol=197, fbs=1, restecg=0, thalach=152, exang=0, oldpeak=1.2, slope=0, ca=0, thal=2, target=1, chol_cal='N'),\n",
       "  Row(age=44, sex=1, cp=2, trestbps=130, chol=233, fbs=0, restecg=1, thalach=179, exang=1, oldpeak=0.4, slope=2, ca=0, thal=2, target=1, chol_cal='B'),\n",
       "  Row(age=52, sex=1, cp=0, trestbps=108, chol=233, fbs=1, restecg=1, thalach=147, exang=0, oldpeak=0.1, slope=2, ca=3, thal=3, target=1, chol_cal='B'),\n",
       "  Row(age=56, sex=1, cp=1, trestbps=120, chol=236, fbs=0, restecg=1, thalach=178, exang=0, oldpeak=0.8, slope=2, ca=0, thal=2, target=1, chol_cal='B'),\n",
       "  Row(age=57, sex=1, cp=0, trestbps=110, chol=335, fbs=0, restecg=1, thalach=143, exang=1, oldpeak=3.0, slope=1, ca=1, thal=3, target=0, chol_cal='H'),\n",
       "  Row(age=44, sex=1, cp=0, trestbps=110, chol=197, fbs=0, restecg=0, thalach=177, exang=0, oldpeak=0.0, slope=2, ca=1, thal=2, target=0, chol_cal='N'),\n",
       "  Row(age=47, sex=1, cp=2, trestbps=130, chol=253, fbs=0, restecg=1, thalach=179, exang=0, oldpeak=0.0, slope=2, ca=0, thal=2, target=1, chol_cal='H'),\n",
       "  Row(age=53, sex=0, cp=0, trestbps=130, chol=264, fbs=0, restecg=0, thalach=143, exang=0, oldpeak=0.4, slope=1, ca=0, thal=2, target=1, chol_cal='H'),\n",
       "  Row(age=45, sex=1, cp=0, trestbps=115, chol=260, fbs=0, restecg=0, thalach=185, exang=0, oldpeak=0.0, slope=2, ca=0, thal=2, target=1, chol_cal='H'),\n",
       "  Row(age=40, sex=1, cp=3, trestbps=140, chol=199, fbs=0, restecg=1, thalach=178, exang=1, oldpeak=1.4, slope=2, ca=0, thal=3, target=1, chol_cal='N'),\n",
       "  Row(age=76, sex=0, cp=2, trestbps=140, chol=197, fbs=0, restecg=2, thalach=116, exang=0, oldpeak=1.1, slope=1, ca=0, thal=2, target=1, chol_cal='N'),\n",
       "  Row(age=57, sex=1, cp=2, trestbps=128, chol=229, fbs=0, restecg=0, thalach=150, exang=0, oldpeak=0.4, slope=1, ca=1, thal=3, target=0, chol_cal='B'),\n",
       "  Row(age=54, sex=1, cp=0, trestbps=120, chol=188, fbs=0, restecg=1, thalach=113, exang=0, oldpeak=1.4, slope=1, ca=1, thal=3, target=0, chol_cal='N'),\n",
       "  Row(age=52, sex=1, cp=1, trestbps=128, chol=205, fbs=1, restecg=1, thalach=184, exang=0, oldpeak=0.0, slope=2, ca=0, thal=2, target=1, chol_cal='B'),\n",
       "  Row(age=41, sex=0, cp=1, trestbps=130, chol=204, fbs=0, restecg=0, thalach=172, exang=0, oldpeak=1.4, slope=2, ca=0, thal=2, target=1, chol_cal='B'),\n",
       "  Row(age=56, sex=0, cp=1, trestbps=140, chol=294, fbs=0, restecg=0, thalach=153, exang=0, oldpeak=1.3, slope=1, ca=0, thal=2, target=1, chol_cal='H'),\n",
       "  Row(age=47, sex=1, cp=2, trestbps=138, chol=257, fbs=0, restecg=0, thalach=156, exang=0, oldpeak=0.0, slope=2, ca=0, thal=2, target=1, chol_cal='H'),\n",
       "  Row(age=66, sex=1, cp=0, trestbps=112, chol=212, fbs=0, restecg=0, thalach=132, exang=1, oldpeak=0.1, slope=2, ca=1, thal=2, target=0, chol_cal='B'),\n",
       "  Row(age=58, sex=1, cp=2, trestbps=112, chol=230, fbs=0, restecg=0, thalach=165, exang=0, oldpeak=2.5, slope=1, ca=1, thal=3, target=0, chol_cal='B'),\n",
       "  Row(age=40, sex=1, cp=0, trestbps=110, chol=167, fbs=0, restecg=0, thalach=114, exang=1, oldpeak=2.0, slope=1, ca=0, thal=3, target=0, chol_cal='N'),\n",
       "  Row(age=57, sex=1, cp=2, trestbps=150, chol=126, fbs=1, restecg=1, thalach=173, exang=0, oldpeak=0.2, slope=2, ca=1, thal=3, target=1, chol_cal='N'),\n",
       "  Row(age=65, sex=1, cp=0, trestbps=110, chol=248, fbs=0, restecg=0, thalach=158, exang=0, oldpeak=0.6, slope=2, ca=2, thal=1, target=0, chol_cal='H'),\n",
       "  Row(age=60, sex=0, cp=2, trestbps=120, chol=178, fbs=1, restecg=1, thalach=96, exang=0, oldpeak=0.0, slope=2, ca=0, thal=2, target=1, chol_cal='N'),\n",
       "  Row(age=44, sex=0, cp=2, trestbps=108, chol=141, fbs=0, restecg=1, thalach=175, exang=0, oldpeak=0.6, slope=1, ca=0, thal=2, target=1, chol_cal='N'),\n",
       "  Row(age=35, sex=1, cp=0, trestbps=126, chol=282, fbs=0, restecg=0, thalach=156, exang=1, oldpeak=0.0, slope=2, ca=0, thal=3, target=0, chol_cal='H'),\n",
       "  Row(age=56, sex=0, cp=0, trestbps=200, chol=288, fbs=1, restecg=0, thalach=133, exang=1, oldpeak=4.0, slope=0, ca=2, thal=3, target=0, chol_cal='H'),\n",
       "  Row(age=45, sex=0, cp=1, trestbps=112, chol=160, fbs=0, restecg=1, thalach=138, exang=0, oldpeak=0.0, slope=1, ca=0, thal=2, target=1, chol_cal='N'),\n",
       "  Row(age=64, sex=1, cp=2, trestbps=125, chol=309, fbs=0, restecg=1, thalach=131, exang=1, oldpeak=1.8, slope=1, ca=0, thal=3, target=0, chol_cal='H'),\n",
       "  Row(age=64, sex=1, cp=3, trestbps=170, chol=227, fbs=0, restecg=0, thalach=155, exang=0, oldpeak=0.6, slope=1, ca=0, thal=3, target=1, chol_cal='B'),\n",
       "  Row(age=67, sex=1, cp=0, trestbps=100, chol=299, fbs=0, restecg=0, thalach=125, exang=1, oldpeak=0.9, slope=1, ca=2, thal=2, target=0, chol_cal='H'),\n",
       "  Row(age=37, sex=1, cp=2, trestbps=130, chol=250, fbs=0, restecg=1, thalach=187, exang=0, oldpeak=3.5, slope=0, ca=0, thal=2, target=1, chol_cal='H'),\n",
       "  Row(age=53, sex=0, cp=0, trestbps=138, chol=234, fbs=0, restecg=0, thalach=160, exang=0, oldpeak=0.0, slope=2, ca=0, thal=2, target=1, chol_cal='B'),\n",
       "  Row(age=55, sex=1, cp=0, trestbps=140, chol=217, fbs=0, restecg=1, thalach=111, exang=1, oldpeak=5.6, slope=0, ca=0, thal=3, target=0, chol_cal='B'),\n",
       "  Row(age=44, sex=1, cp=1, trestbps=130, chol=219, fbs=0, restecg=0, thalach=188, exang=0, oldpeak=0.0, slope=2, ca=0, thal=2, target=1, chol_cal='B'),\n",
       "  Row(age=67, sex=1, cp=0, trestbps=120, chol=237, fbs=0, restecg=1, thalach=71, exang=0, oldpeak=1.0, slope=1, ca=0, thal=2, target=0, chol_cal='B'),\n",
       "  Row(age=58, sex=1, cp=0, trestbps=128, chol=259, fbs=0, restecg=0, thalach=130, exang=1, oldpeak=3.0, slope=1, ca=2, thal=3, target=0, chol_cal='H'),\n",
       "  Row(age=41, sex=1, cp=1, trestbps=135, chol=203, fbs=0, restecg=1, thalach=132, exang=0, oldpeak=0.0, slope=1, ca=0, thal=1, target=1, chol_cal='B'),\n",
       "  Row(age=62, sex=0, cp=0, trestbps=124, chol=209, fbs=0, restecg=1, thalach=163, exang=0, oldpeak=0.0, slope=2, ca=0, thal=2, target=1, chol_cal='B'),\n",
       "  Row(age=55, sex=1, cp=0, trestbps=132, chol=353, fbs=0, restecg=1, thalach=132, exang=1, oldpeak=1.2, slope=1, ca=1, thal=3, target=0, chol_cal='H'),\n",
       "  Row(age=60, sex=0, cp=2, trestbps=102, chol=318, fbs=0, restecg=1, thalach=160, exang=0, oldpeak=0.0, slope=2, ca=1, thal=2, target=1, chol_cal='H'),\n",
       "  Row(age=35, sex=1, cp=0, trestbps=120, chol=198, fbs=0, restecg=1, thalach=130, exang=1, oldpeak=1.6, slope=1, ca=0, thal=3, target=0, chol_cal='N')],\n",
       " [Row(age=56, sex=1, cp=0, trestbps=130, chol=283, fbs=1, restecg=0, thalach=103, exang=1, oldpeak=1.6, slope=0, ca=0, thal=3, target=0, chol_cal='H'),\n",
       "  Row(age=47, sex=1, cp=2, trestbps=108, chol=243, fbs=0, restecg=1, thalach=152, exang=0, oldpeak=0.0, slope=2, ca=0, thal=2, target=0, chol_cal='H'),\n",
       "  Row(age=59, sex=1, cp=0, trestbps=164, chol=176, fbs=1, restecg=0, thalach=90, exang=0, oldpeak=1.0, slope=1, ca=2, thal=1, target=0, chol_cal='N'),\n",
       "  Row(age=53, sex=1, cp=0, trestbps=140, chol=203, fbs=1, restecg=0, thalach=155, exang=1, oldpeak=3.1, slope=0, ca=0, thal=3, target=0, chol_cal='B'),\n",
       "  Row(age=66, sex=0, cp=0, trestbps=178, chol=228, fbs=1, restecg=1, thalach=165, exang=1, oldpeak=1.0, slope=1, ca=2, thal=3, target=0, chol_cal='B'),\n",
       "  Row(age=60, sex=1, cp=0, trestbps=130, chol=253, fbs=0, restecg=1, thalach=144, exang=1, oldpeak=1.4, slope=2, ca=1, thal=3, target=0, chol_cal='H'),\n",
       "  Row(age=67, sex=0, cp=2, trestbps=152, chol=277, fbs=0, restecg=1, thalach=172, exang=0, oldpeak=0.0, slope=2, ca=1, thal=2, target=1, chol_cal='H'),\n",
       "  Row(age=38, sex=1, cp=2, trestbps=138, chol=175, fbs=0, restecg=1, thalach=173, exang=0, oldpeak=0.0, slope=2, ca=4, thal=2, target=1, chol_cal='N'),\n",
       "  Row(age=61, sex=1, cp=0, trestbps=120, chol=260, fbs=0, restecg=1, thalach=140, exang=1, oldpeak=3.6, slope=1, ca=1, thal=3, target=0, chol_cal='H'),\n",
       "  Row(age=52, sex=1, cp=2, trestbps=172, chol=199, fbs=1, restecg=1, thalach=162, exang=0, oldpeak=0.5, slope=2, ca=0, thal=3, target=1, chol_cal='N'),\n",
       "  Row(age=59, sex=1, cp=0, trestbps=110, chol=239, fbs=0, restecg=0, thalach=142, exang=1, oldpeak=1.2, slope=1, ca=1, thal=3, target=0, chol_cal='B'),\n",
       "  Row(age=46, sex=0, cp=0, trestbps=138, chol=243, fbs=0, restecg=0, thalach=152, exang=1, oldpeak=0.0, slope=1, ca=0, thal=2, target=1, chol_cal='H'),\n",
       "  Row(age=65, sex=1, cp=0, trestbps=135, chol=254, fbs=0, restecg=0, thalach=127, exang=0, oldpeak=2.8, slope=1, ca=1, thal=3, target=0, chol_cal='H'),\n",
       "  Row(age=61, sex=1, cp=3, trestbps=134, chol=234, fbs=0, restecg=1, thalach=145, exang=0, oldpeak=2.6, slope=1, ca=2, thal=2, target=0, chol_cal='B'),\n",
       "  Row(age=48, sex=0, cp=2, trestbps=130, chol=275, fbs=0, restecg=1, thalach=139, exang=0, oldpeak=0.2, slope=2, ca=0, thal=2, target=1, chol_cal='H'),\n",
       "  Row(age=45, sex=1, cp=0, trestbps=142, chol=309, fbs=0, restecg=0, thalach=147, exang=1, oldpeak=0.0, slope=1, ca=3, thal=3, target=0, chol_cal='H'),\n",
       "  Row(age=46, sex=1, cp=2, trestbps=150, chol=231, fbs=0, restecg=1, thalach=147, exang=0, oldpeak=3.6, slope=1, ca=0, thal=2, target=0, chol_cal='B'),\n",
       "  Row(age=70, sex=1, cp=0, trestbps=130, chol=322, fbs=0, restecg=0, thalach=109, exang=0, oldpeak=2.4, slope=1, ca=3, thal=2, target=0, chol_cal='H'),\n",
       "  Row(age=54, sex=1, cp=0, trestbps=140, chol=239, fbs=0, restecg=1, thalach=160, exang=0, oldpeak=1.2, slope=2, ca=0, thal=2, target=1, chol_cal='B'),\n",
       "  Row(age=45, sex=0, cp=0, trestbps=138, chol=236, fbs=0, restecg=0, thalach=152, exang=1, oldpeak=0.2, slope=1, ca=0, thal=2, target=1, chol_cal='B'),\n",
       "  Row(age=44, sex=1, cp=1, trestbps=120, chol=220, fbs=0, restecg=1, thalach=170, exang=0, oldpeak=0.0, slope=2, ca=0, thal=2, target=1, chol_cal='B'),\n",
       "  Row(age=50, sex=1, cp=2, trestbps=129, chol=196, fbs=0, restecg=1, thalach=163, exang=0, oldpeak=0.0, slope=2, ca=0, thal=2, target=1, chol_cal='N'),\n",
       "  Row(age=38, sex=1, cp=3, trestbps=120, chol=231, fbs=0, restecg=1, thalach=182, exang=1, oldpeak=3.8, slope=1, ca=0, thal=3, target=0, chol_cal='B'),\n",
       "  Row(age=51, sex=1, cp=2, trestbps=110, chol=175, fbs=0, restecg=1, thalach=123, exang=0, oldpeak=0.6, slope=2, ca=0, thal=2, target=1, chol_cal='N'),\n",
       "  Row(age=51, sex=0, cp=2, trestbps=130, chol=256, fbs=0, restecg=0, thalach=149, exang=0, oldpeak=0.5, slope=2, ca=0, thal=2, target=1, chol_cal='H'),\n",
       "  Row(age=42, sex=1, cp=2, trestbps=120, chol=240, fbs=1, restecg=1, thalach=194, exang=0, oldpeak=0.8, slope=0, ca=0, thal=3, target=1, chol_cal='H'),\n",
       "  Row(age=67, sex=0, cp=2, trestbps=115, chol=564, fbs=0, restecg=0, thalach=160, exang=0, oldpeak=1.6, slope=1, ca=0, thal=3, target=1, chol_cal='H'),\n",
       "  Row(age=59, sex=1, cp=2, trestbps=150, chol=212, fbs=1, restecg=1, thalach=157, exang=0, oldpeak=1.6, slope=2, ca=0, thal=2, target=1, chol_cal='B'),\n",
       "  Row(age=52, sex=1, cp=3, trestbps=152, chol=298, fbs=1, restecg=1, thalach=178, exang=0, oldpeak=1.2, slope=1, ca=0, thal=3, target=1, chol_cal='H'),\n",
       "  Row(age=42, sex=1, cp=3, trestbps=148, chol=244, fbs=0, restecg=0, thalach=178, exang=0, oldpeak=0.8, slope=2, ca=2, thal=2, target=1, chol_cal='H'),\n",
       "  Row(age=39, sex=0, cp=2, trestbps=138, chol=220, fbs=0, restecg=1, thalach=152, exang=0, oldpeak=0.0, slope=1, ca=0, thal=2, target=1, chol_cal='B'),\n",
       "  Row(age=34, sex=1, cp=3, trestbps=118, chol=182, fbs=0, restecg=0, thalach=174, exang=0, oldpeak=0.0, slope=2, ca=0, thal=2, target=1, chol_cal='N'),\n",
       "  Row(age=50, sex=0, cp=2, trestbps=120, chol=219, fbs=0, restecg=1, thalach=158, exang=0, oldpeak=1.6, slope=1, ca=0, thal=2, target=1, chol_cal='B'),\n",
       "  Row(age=44, sex=1, cp=0, trestbps=112, chol=290, fbs=0, restecg=0, thalach=153, exang=0, oldpeak=0.0, slope=2, ca=1, thal=2, target=0, chol_cal='H'),\n",
       "  Row(age=51, sex=1, cp=0, trestbps=140, chol=298, fbs=0, restecg=1, thalach=122, exang=1, oldpeak=4.2, slope=1, ca=3, thal=3, target=0, chol_cal='H'),\n",
       "  Row(age=57, sex=1, cp=0, trestbps=140, chol=192, fbs=0, restecg=1, thalach=148, exang=0, oldpeak=0.4, slope=1, ca=0, thal=1, target=1, chol_cal='N'),\n",
       "  Row(age=51, sex=1, cp=2, trestbps=100, chol=222, fbs=0, restecg=1, thalach=143, exang=1, oldpeak=1.2, slope=1, ca=0, thal=2, target=1, chol_cal='B'),\n",
       "  Row(age=59, sex=1, cp=1, trestbps=140, chol=221, fbs=0, restecg=1, thalach=164, exang=1, oldpeak=0.0, slope=2, ca=0, thal=2, target=1, chol_cal='B'),\n",
       "  Row(age=51, sex=1, cp=0, trestbps=140, chol=261, fbs=0, restecg=0, thalach=186, exang=1, oldpeak=0.0, slope=2, ca=0, thal=2, target=1, chol_cal='H'),\n",
       "  Row(age=64, sex=0, cp=0, trestbps=130, chol=303, fbs=0, restecg=1, thalach=122, exang=0, oldpeak=2.0, slope=1, ca=2, thal=2, target=1, chol_cal='H'),\n",
       "  Row(age=55, sex=0, cp=0, trestbps=128, chol=205, fbs=0, restecg=2, thalach=130, exang=1, oldpeak=2.0, slope=1, ca=1, thal=3, target=0, chol_cal='B'),\n",
       "  Row(age=49, sex=1, cp=2, trestbps=118, chol=149, fbs=0, restecg=0, thalach=126, exang=0, oldpeak=0.8, slope=2, ca=3, thal=2, target=0, chol_cal='N'),\n",
       "  Row(age=46, sex=0, cp=2, trestbps=142, chol=177, fbs=0, restecg=0, thalach=160, exang=1, oldpeak=1.4, slope=0, ca=0, thal=2, target=1, chol_cal='N'),\n",
       "  Row(age=58, sex=1, cp=0, trestbps=125, chol=300, fbs=0, restecg=0, thalach=171, exang=0, oldpeak=0.0, slope=2, ca=2, thal=3, target=0, chol_cal='H'),\n",
       "  Row(age=58, sex=0, cp=1, trestbps=136, chol=319, fbs=1, restecg=0, thalach=152, exang=0, oldpeak=0.0, slope=2, ca=2, thal=2, target=0, chol_cal='H'),\n",
       "  Row(age=62, sex=0, cp=2, trestbps=130, chol=263, fbs=0, restecg=1, thalach=97, exang=0, oldpeak=1.2, slope=1, ca=1, thal=3, target=0, chol_cal='H'),\n",
       "  Row(age=45, sex=1, cp=0, trestbps=104, chol=208, fbs=0, restecg=0, thalach=148, exang=1, oldpeak=3.0, slope=1, ca=0, thal=2, target=1, chol_cal='B'),\n",
       "  Row(age=54, sex=0, cp=2, trestbps=135, chol=304, fbs=1, restecg=1, thalach=170, exang=0, oldpeak=0.0, slope=2, ca=0, thal=2, target=1, chol_cal='H'),\n",
       "  Row(age=71, sex=0, cp=2, trestbps=110, chol=265, fbs=1, restecg=0, thalach=130, exang=0, oldpeak=0.0, slope=2, ca=1, thal=2, target=1, chol_cal='H'),\n",
       "  Row(age=56, sex=1, cp=0, trestbps=125, chol=249, fbs=1, restecg=0, thalach=144, exang=1, oldpeak=1.2, slope=1, ca=1, thal=2, target=0, chol_cal='H'),\n",
       "  Row(age=65, sex=0, cp=0, trestbps=150, chol=225, fbs=0, restecg=0, thalach=114, exang=0, oldpeak=1.0, slope=1, ca=3, thal=3, target=0, chol_cal='B'),\n",
       "  Row(age=64, sex=1, cp=3, trestbps=110, chol=211, fbs=0, restecg=0, thalach=144, exang=1, oldpeak=1.8, slope=1, ca=0, thal=2, target=1, chol_cal='B'),\n",
       "  Row(age=55, sex=1, cp=1, trestbps=130, chol=262, fbs=0, restecg=1, thalach=155, exang=0, oldpeak=0.0, slope=2, ca=0, thal=2, target=1, chol_cal='H'),\n",
       "  Row(age=57, sex=1, cp=0, trestbps=110, chol=201, fbs=0, restecg=1, thalach=126, exang=1, oldpeak=1.5, slope=1, ca=0, thal=1, target=1, chol_cal='B'),\n",
       "  Row(age=67, sex=1, cp=0, trestbps=120, chol=229, fbs=0, restecg=0, thalach=129, exang=1, oldpeak=2.6, slope=1, ca=2, thal=3, target=0, chol_cal='B'),\n",
       "  Row(age=46, sex=1, cp=0, trestbps=120, chol=249, fbs=0, restecg=0, thalach=144, exang=0, oldpeak=0.8, slope=2, ca=0, thal=3, target=0, chol_cal='H'),\n",
       "  Row(age=54, sex=1, cp=0, trestbps=110, chol=206, fbs=0, restecg=0, thalach=108, exang=1, oldpeak=0.0, slope=1, ca=1, thal=2, target=0, chol_cal='B'),\n",
       "  Row(age=49, sex=1, cp=2, trestbps=120, chol=188, fbs=0, restecg=1, thalach=139, exang=0, oldpeak=2.0, slope=1, ca=3, thal=3, target=0, chol_cal='N'),\n",
       "  Row(age=43, sex=1, cp=0, trestbps=132, chol=247, fbs=1, restecg=0, thalach=143, exang=1, oldpeak=0.1, slope=1, ca=4, thal=3, target=0, chol_cal='H'),\n",
       "  Row(age=41, sex=1, cp=2, trestbps=112, chol=250, fbs=0, restecg=1, thalach=179, exang=0, oldpeak=0.0, slope=2, ca=0, thal=2, target=1, chol_cal='H'),\n",
       "  Row(age=54, sex=0, cp=2, trestbps=108, chol=267, fbs=0, restecg=0, thalach=167, exang=0, oldpeak=0.0, slope=2, ca=0, thal=2, target=1, chol_cal='H')],\n",
       " [Row(age=52, sex=1, cp=1, trestbps=134, chol=201, fbs=0, restecg=1, thalach=158, exang=0, oldpeak=0.8, slope=2, ca=1, thal=2, target=1, chol_cal='B'),\n",
       "  Row(age=39, sex=0, cp=2, trestbps=94, chol=199, fbs=0, restecg=1, thalach=179, exang=0, oldpeak=0.0, slope=2, ca=0, thal=2, target=1, chol_cal='N'),\n",
       "  Row(age=60, sex=1, cp=0, trestbps=125, chol=258, fbs=0, restecg=0, thalach=141, exang=1, oldpeak=2.8, slope=1, ca=1, thal=3, target=0, chol_cal='H'),\n",
       "  Row(age=68, sex=0, cp=2, trestbps=120, chol=211, fbs=0, restecg=0, thalach=115, exang=0, oldpeak=1.5, slope=1, ca=0, thal=2, target=1, chol_cal='B'),\n",
       "  Row(age=58, sex=1, cp=1, trestbps=120, chol=284, fbs=0, restecg=0, thalach=160, exang=0, oldpeak=1.8, slope=1, ca=0, thal=2, target=0, chol_cal='H'),\n",
       "  Row(age=44, sex=1, cp=1, trestbps=120, chol=263, fbs=0, restecg=1, thalach=173, exang=0, oldpeak=0.0, slope=2, ca=0, thal=3, target=1, chol_cal='H'),\n",
       "  Row(age=70, sex=1, cp=1, trestbps=156, chol=245, fbs=0, restecg=0, thalach=143, exang=0, oldpeak=0.0, slope=2, ca=0, thal=2, target=1, chol_cal='H'),\n",
       "  Row(age=57, sex=0, cp=0, trestbps=140, chol=241, fbs=0, restecg=1, thalach=123, exang=1, oldpeak=0.2, slope=1, ca=0, thal=3, target=0, chol_cal='H'),\n",
       "  Row(age=48, sex=1, cp=1, trestbps=130, chol=245, fbs=0, restecg=0, thalach=180, exang=0, oldpeak=0.2, slope=1, ca=0, thal=2, target=1, chol_cal='H'),\n",
       "  Row(age=77, sex=1, cp=0, trestbps=125, chol=304, fbs=0, restecg=0, thalach=162, exang=1, oldpeak=0.0, slope=2, ca=3, thal=2, target=0, chol_cal='H'),\n",
       "  Row(age=68, sex=1, cp=2, trestbps=180, chol=274, fbs=1, restecg=0, thalach=150, exang=1, oldpeak=1.6, slope=1, ca=0, thal=3, target=0, chol_cal='H'),\n",
       "  Row(age=61, sex=1, cp=0, trestbps=140, chol=207, fbs=0, restecg=0, thalach=138, exang=1, oldpeak=1.9, slope=2, ca=1, thal=3, target=0, chol_cal='B'),\n",
       "  Row(age=70, sex=1, cp=0, trestbps=145, chol=174, fbs=0, restecg=1, thalach=125, exang=1, oldpeak=2.6, slope=0, ca=0, thal=3, target=0, chol_cal='N'),\n",
       "  Row(age=64, sex=1, cp=0, trestbps=128, chol=263, fbs=0, restecg=1, thalach=105, exang=1, oldpeak=0.2, slope=1, ca=1, thal=3, target=1, chol_cal='H'),\n",
       "  Row(age=56, sex=1, cp=1, trestbps=130, chol=221, fbs=0, restecg=0, thalach=163, exang=0, oldpeak=0.0, slope=2, ca=0, thal=3, target=1, chol_cal='B'),\n",
       "  Row(age=67, sex=1, cp=0, trestbps=125, chol=254, fbs=1, restecg=1, thalach=163, exang=0, oldpeak=0.2, slope=1, ca=2, thal=3, target=0, chol_cal='H'),\n",
       "  Row(age=59, sex=1, cp=3, trestbps=170, chol=288, fbs=0, restecg=0, thalach=159, exang=0, oldpeak=0.2, slope=1, ca=0, thal=3, target=0, chol_cal='H'),\n",
       "  Row(age=52, sex=1, cp=0, trestbps=128, chol=255, fbs=0, restecg=1, thalach=161, exang=1, oldpeak=0.0, slope=2, ca=1, thal=3, target=0, chol_cal='H'),\n",
       "  Row(age=50, sex=1, cp=0, trestbps=150, chol=243, fbs=0, restecg=0, thalach=128, exang=0, oldpeak=2.6, slope=1, ca=0, thal=3, target=0, chol_cal='H'),\n",
       "  Row(age=54, sex=1, cp=1, trestbps=108, chol=309, fbs=0, restecg=1, thalach=156, exang=0, oldpeak=0.0, slope=2, ca=0, thal=3, target=1, chol_cal='H'),\n",
       "  Row(age=67, sex=0, cp=0, trestbps=106, chol=223, fbs=0, restecg=1, thalach=142, exang=0, oldpeak=0.3, slope=2, ca=2, thal=2, target=1, chol_cal='B'),\n",
       "  Row(age=58, sex=1, cp=2, trestbps=140, chol=211, fbs=1, restecg=0, thalach=165, exang=0, oldpeak=0.0, slope=2, ca=0, thal=2, target=1, chol_cal='B'),\n",
       "  Row(age=52, sex=1, cp=0, trestbps=128, chol=204, fbs=1, restecg=1, thalach=156, exang=1, oldpeak=1.0, slope=1, ca=0, thal=0, target=0, chol_cal='B'),\n",
       "  Row(age=54, sex=1, cp=0, trestbps=122, chol=286, fbs=0, restecg=0, thalach=116, exang=1, oldpeak=3.2, slope=1, ca=2, thal=2, target=0, chol_cal='H'),\n",
       "  Row(age=65, sex=1, cp=3, trestbps=138, chol=282, fbs=1, restecg=0, thalach=174, exang=0, oldpeak=1.4, slope=1, ca=1, thal=2, target=0, chol_cal='H'),\n",
       "  Row(age=43, sex=0, cp=2, trestbps=122, chol=213, fbs=0, restecg=1, thalach=165, exang=0, oldpeak=0.2, slope=1, ca=0, thal=2, target=1, chol_cal='B'),\n",
       "  Row(age=44, sex=1, cp=2, trestbps=140, chol=235, fbs=0, restecg=0, thalach=180, exang=0, oldpeak=0.0, slope=2, ca=0, thal=2, target=1, chol_cal='B'),\n",
       "  Row(age=65, sex=0, cp=2, trestbps=160, chol=360, fbs=0, restecg=0, thalach=151, exang=0, oldpeak=0.8, slope=2, ca=0, thal=2, target=1, chol_cal='H'),\n",
       "  Row(age=62, sex=1, cp=0, trestbps=120, chol=267, fbs=0, restecg=1, thalach=99, exang=1, oldpeak=1.8, slope=1, ca=2, thal=3, target=0, chol_cal='H'),\n",
       "  Row(age=60, sex=0, cp=3, trestbps=150, chol=240, fbs=0, restecg=1, thalach=171, exang=0, oldpeak=0.9, slope=2, ca=0, thal=2, target=1, chol_cal='H'),\n",
       "  Row(age=56, sex=1, cp=1, trestbps=120, chol=240, fbs=0, restecg=1, thalach=169, exang=0, oldpeak=0.0, slope=0, ca=0, thal=2, target=1, chol_cal='H'),\n",
       "  Row(age=68, sex=1, cp=0, trestbps=144, chol=193, fbs=1, restecg=1, thalach=141, exang=0, oldpeak=3.4, slope=1, ca=2, thal=3, target=0, chol_cal='N'),\n",
       "  Row(age=41, sex=1, cp=1, trestbps=110, chol=235, fbs=0, restecg=1, thalach=153, exang=0, oldpeak=0.0, slope=2, ca=0, thal=2, target=1, chol_cal='B'),\n",
       "  Row(age=54, sex=1, cp=0, trestbps=124, chol=266, fbs=0, restecg=0, thalach=109, exang=1, oldpeak=2.2, slope=1, ca=1, thal=3, target=0, chol_cal='H'),\n",
       "  Row(age=51, sex=1, cp=2, trestbps=94, chol=227, fbs=0, restecg=1, thalach=154, exang=1, oldpeak=0.0, slope=2, ca=1, thal=3, target=1, chol_cal='B'),\n",
       "  Row(age=52, sex=1, cp=2, trestbps=138, chol=223, fbs=0, restecg=1, thalach=169, exang=0, oldpeak=0.0, slope=2, ca=4, thal=2, target=1, chol_cal='B'),\n",
       "  Row(age=64, sex=0, cp=2, trestbps=140, chol=313, fbs=0, restecg=1, thalach=133, exang=0, oldpeak=0.2, slope=2, ca=0, thal=3, target=1, chol_cal='H'),\n",
       "  Row(age=63, sex=1, cp=0, trestbps=130, chol=330, fbs=1, restecg=0, thalach=132, exang=1, oldpeak=1.8, slope=2, ca=3, thal=3, target=0, chol_cal='H'),\n",
       "  Row(age=55, sex=0, cp=1, trestbps=132, chol=342, fbs=0, restecg=1, thalach=166, exang=0, oldpeak=1.2, slope=2, ca=0, thal=2, target=1, chol_cal='H'),\n",
       "  Row(age=66, sex=1, cp=1, trestbps=160, chol=246, fbs=0, restecg=1, thalach=120, exang=1, oldpeak=0.0, slope=1, ca=3, thal=1, target=0, chol_cal='H'),\n",
       "  Row(age=52, sex=1, cp=1, trestbps=120, chol=325, fbs=0, restecg=1, thalach=172, exang=0, oldpeak=0.2, slope=2, ca=0, thal=2, target=1, chol_cal='H'),\n",
       "  Row(age=55, sex=0, cp=1, trestbps=135, chol=250, fbs=0, restecg=0, thalach=161, exang=0, oldpeak=1.4, slope=1, ca=0, thal=2, target=1, chol_cal='H'),\n",
       "  Row(age=41, sex=0, cp=1, trestbps=105, chol=198, fbs=0, restecg=1, thalach=168, exang=0, oldpeak=0.0, slope=2, ca=1, thal=2, target=1, chol_cal='N'),\n",
       "  Row(age=41, sex=0, cp=1, trestbps=126, chol=306, fbs=0, restecg=1, thalach=163, exang=0, oldpeak=0.0, slope=2, ca=0, thal=2, target=1, chol_cal='H'),\n",
       "  Row(age=62, sex=0, cp=0, trestbps=150, chol=244, fbs=0, restecg=1, thalach=154, exang=1, oldpeak=1.4, slope=1, ca=0, thal=2, target=0, chol_cal='H'),\n",
       "  Row(age=65, sex=0, cp=2, trestbps=140, chol=417, fbs=1, restecg=0, thalach=157, exang=0, oldpeak=0.8, slope=2, ca=1, thal=2, target=1, chol_cal='H'),\n",
       "  Row(age=56, sex=1, cp=0, trestbps=132, chol=184, fbs=0, restecg=0, thalach=105, exang=1, oldpeak=2.1, slope=1, ca=1, thal=1, target=0, chol_cal='N'),\n",
       "  Row(age=44, sex=1, cp=0, trestbps=120, chol=169, fbs=0, restecg=1, thalach=144, exang=1, oldpeak=2.8, slope=0, ca=0, thal=1, target=0, chol_cal='N'),\n",
       "  Row(age=64, sex=0, cp=0, trestbps=180, chol=325, fbs=0, restecg=1, thalach=154, exang=1, oldpeak=0.0, slope=2, ca=0, thal=2, target=1, chol_cal='H'),\n",
       "  Row(age=48, sex=1, cp=0, trestbps=124, chol=274, fbs=0, restecg=0, thalach=166, exang=0, oldpeak=0.5, slope=1, ca=0, thal=3, target=0, chol_cal='H'),\n",
       "  Row(age=58, sex=1, cp=2, trestbps=105, chol=240, fbs=0, restecg=0, thalach=154, exang=1, oldpeak=0.6, slope=1, ca=0, thal=3, target=1, chol_cal='H'),\n",
       "  Row(age=50, sex=0, cp=1, trestbps=120, chol=244, fbs=0, restecg=1, thalach=162, exang=0, oldpeak=1.1, slope=2, ca=0, thal=2, target=1, chol_cal='H'),\n",
       "  Row(age=62, sex=1, cp=1, trestbps=128, chol=208, fbs=1, restecg=0, thalach=140, exang=0, oldpeak=0.0, slope=2, ca=0, thal=2, target=1, chol_cal='B'),\n",
       "  Row(age=42, sex=1, cp=2, trestbps=130, chol=180, fbs=0, restecg=1, thalach=150, exang=0, oldpeak=0.0, slope=2, ca=0, thal=2, target=1, chol_cal='N'),\n",
       "  Row(age=59, sex=1, cp=0, trestbps=135, chol=234, fbs=0, restecg=1, thalach=161, exang=0, oldpeak=0.5, slope=1, ca=0, thal=3, target=1, chol_cal='B'),\n",
       "  Row(age=53, sex=0, cp=2, trestbps=128, chol=216, fbs=0, restecg=0, thalach=115, exang=0, oldpeak=0.0, slope=2, ca=0, thal=0, target=1, chol_cal='B'),\n",
       "  Row(age=56, sex=1, cp=2, trestbps=130, chol=256, fbs=1, restecg=0, thalach=142, exang=1, oldpeak=0.6, slope=1, ca=1, thal=1, target=0, chol_cal='H'),\n",
       "  Row(age=60, sex=1, cp=0, trestbps=145, chol=282, fbs=0, restecg=0, thalach=142, exang=1, oldpeak=2.8, slope=1, ca=2, thal=3, target=0, chol_cal='H'),\n",
       "  Row(age=51, sex=1, cp=2, trestbps=125, chol=245, fbs=1, restecg=0, thalach=166, exang=0, oldpeak=2.4, slope=1, ca=0, thal=2, target=1, chol_cal='H'),\n",
       "  Row(age=41, sex=1, cp=1, trestbps=120, chol=157, fbs=0, restecg=1, thalach=182, exang=0, oldpeak=0.0, slope=2, ca=0, thal=2, target=1, chol_cal='N')]]"
      ]
     },
     "execution_count": 12,
     "metadata": {},
     "output_type": "execute_result"
    }
   ],
   "source": [
    "resultFrame.repartition(5).rdd.glom().collect()"
   ]
  },
  {
   "cell_type": "code",
   "execution_count": 16,
   "id": "c7934fbd-e368-438d-9dad-9a7c95678935",
   "metadata": {},
   "outputs": [],
   "source": [
    "high = spark_ctxt.accumulator(0)\n",
    "borderline = spark_ctxt.accumulator(0)\n",
    "normal = spark_ctxt.accumulator(0)"
   ]
  },
  {
   "cell_type": "code",
   "execution_count": 17,
   "id": "7a33a390-6f5e-4664-9103-5b1c5bba015f",
   "metadata": {},
   "outputs": [],
   "source": [
    "resultFrame.where(F.col('chol_cal') == 'H').rdd.foreach(lambda m: high.add(1))\n",
    "resultFrame.where(F.col('chol_cal') == 'B').rdd.foreach(lambda m: borderline.add(1))\n",
    "resultFrame.where(F.col('chol_cal') == 'N').rdd.foreach(lambda m: normal.add(1))"
   ]
  },
  {
   "cell_type": "code",
   "execution_count": 18,
   "id": "aaa45c82-0509-4335-9064-12529597b55e",
   "metadata": {},
   "outputs": [
    {
     "data": {
      "text/plain": [
       "155"
      ]
     },
     "execution_count": 18,
     "metadata": {},
     "output_type": "execute_result"
    }
   ],
   "source": [
    "high.value"
   ]
  },
  {
   "cell_type": "code",
   "execution_count": 19,
   "id": "7a78a305-0d0e-48b0-9ece-959f16103be2",
   "metadata": {},
   "outputs": [
    {
     "data": {
      "text/plain": [
       "97"
      ]
     },
     "execution_count": 19,
     "metadata": {},
     "output_type": "execute_result"
    },
    {
     "name": "stderr",
     "output_type": "stream",
     "text": [
      "----------------------------------------\n",
      "Exception happened during processing of request from ('127.0.0.1', 60190)\n",
      "Traceback (most recent call last):\n",
      "  File \"/opt/bitnami/python/lib/python3.8/socketserver.py\", line 316, in _handle_request_noblock\n",
      "    self.process_request(request, client_address)\n",
      "  File \"/opt/bitnami/python/lib/python3.8/socketserver.py\", line 347, in process_request\n",
      "    self.finish_request(request, client_address)\n",
      "  File \"/opt/bitnami/python/lib/python3.8/socketserver.py\", line 360, in finish_request\n",
      "    self.RequestHandlerClass(request, client_address, self)\n",
      "  File \"/opt/bitnami/python/lib/python3.8/socketserver.py\", line 747, in __init__\n",
      "    self.handle()\n",
      "  File \"/opt/bitnami/spark/python/pyspark/accumulators.py\", line 281, in handle\n",
      "    poll(accum_updates)\n",
      "  File \"/opt/bitnami/spark/python/pyspark/accumulators.py\", line 253, in poll\n",
      "    if func():\n",
      "  File \"/opt/bitnami/spark/python/pyspark/accumulators.py\", line 257, in accum_updates\n",
      "    num_updates = read_int(self.rfile)\n",
      "  File \"/opt/bitnami/spark/python/pyspark/serializers.py\", line 595, in read_int\n",
      "    raise EOFError\n",
      "EOFError\n",
      "----------------------------------------\n"
     ]
    }
   ],
   "source": [
    "borderline.value"
   ]
  },
  {
   "cell_type": "code",
   "execution_count": null,
   "id": "f273e3ef-26fe-4995-b94e-957f531653ad",
   "metadata": {},
   "outputs": [],
   "source": []
  }
 ],
 "metadata": {
  "kernelspec": {
   "display_name": "Python 3 (ipykernel)",
   "language": "python",
   "name": "python3"
  },
  "language_info": {
   "codemirror_mode": {
    "name": "ipython",
    "version": 3
   },
   "file_extension": ".py",
   "mimetype": "text/x-python",
   "name": "python",
   "nbconvert_exporter": "python",
   "pygments_lexer": "ipython3",
   "version": "3.8.14"
  }
 },
 "nbformat": 4,
 "nbformat_minor": 5
}
